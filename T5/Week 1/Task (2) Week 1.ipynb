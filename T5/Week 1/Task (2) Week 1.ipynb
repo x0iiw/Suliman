{
 "cells": [
  {
   "cell_type": "markdown",
   "metadata": {
    "id": "4TflBwn4kNdJ"
   },
   "source": [
    "## Objective\n",
    "* The objective of this exercise is to explore and visualize the Traffic Index dataset to gain insights and understand the patterns in the data."
   ]
  },
  {
   "cell_type": "markdown",
   "metadata": {
    "id": "8vb3xNKsoP0r"
   },
   "source": [
    "##Dataset Description"
   ]
  },
  {
   "cell_type": "markdown",
   "metadata": {
    "id": "FQjSVR4h8fu8"
   },
   "source": [
    "| Column Name | Description | Data Type |\n",
    "| :---------------- | :------: | ----: |\n",
    "|   City  |   Name of the city\t   | Object |\n",
    "| Datetime           |   Date and time of the data entry\t   | Object |\n",
    "|  TrafficIndexLive    |  Real-time traffic index\t   | Int |\n",
    "|  Jamscount |  Number of traffic jams\t   | Int |\n",
    "|   JamsDelay  |   Total delay caused by traffic jams (in minutes)\t   | Float |\n",
    "|JamsLength           |   Total length of traffic jams (in kilometers)\t   | Float |\n",
    "|  TrafficIndexWeekAgo    |  Traffic index one week ago\t   | Int |\n",
    "|  TravelTimeHistoric |  Historical average travel time (in minutes)\t   | Float |\n",
    "|   TravelTimeLive  |   Real-time travel time (in minutes)\t   | Float |\n"
   ]
  },
  {
   "cell_type": "markdown",
   "metadata": {
    "id": "WBNuyQVhlpj5"
   },
   "source": [
    "# Tasks"
   ]
  },
  {
   "cell_type": "markdown",
   "metadata": {
    "id": "hkp41fRQoUSj"
   },
   "source": [
    "## 1. Exploratory Data Analysis (EDA)"
   ]
  },
  {
   "cell_type": "markdown",
   "metadata": {
    "id": "RQpjcBLfoZgr"
   },
   "source": [
    "### Perform summary statistics on the dataset."
   ]
  },
  {
   "cell_type": "code",
   "execution_count": 42,
   "metadata": {
    "id": "9CIk-QkApKLp"
   },
   "outputs": [],
   "source": [
    "import pandas as pd"
   ]
  },
  {
   "cell_type": "code",
   "execution_count": 43,
   "metadata": {},
   "outputs": [],
   "source": [
    "df = pd.read_csv(\"/Users/a./Desktop/Course T5/Task (2) Dataset.csv\")"
   ]
  },
  {
   "cell_type": "code",
   "execution_count": 44,
   "metadata": {},
   "outputs": [],
   "source": [
    "dff = pd.read_csv(\"/Users/a./Desktop/Course T5/Task (1) Dataset.csv\")"
   ]
  },
  {
   "cell_type": "code",
   "execution_count": 45,
   "metadata": {},
   "outputs": [],
   "source": [
    "#select the coum you want marge\n",
    "colum_to_marge = dff[['Weather_conditions']]"
   ]
  },
  {
   "cell_type": "code",
   "execution_count": 46,
   "metadata": {},
   "outputs": [],
   "source": [
    "df = pd.concat([df,colum_to_marge], axis=1)"
   ]
  },
  {
   "cell_type": "code",
   "execution_count": 47,
   "metadata": {},
   "outputs": [
    {
     "data": {
      "text/html": [
       "<div>\n",
       "<style scoped>\n",
       "    .dataframe tbody tr th:only-of-type {\n",
       "        vertical-align: middle;\n",
       "    }\n",
       "\n",
       "    .dataframe tbody tr th {\n",
       "        vertical-align: top;\n",
       "    }\n",
       "\n",
       "    .dataframe thead th {\n",
       "        text-align: right;\n",
       "    }\n",
       "</style>\n",
       "<table border=\"1\" class=\"dataframe\">\n",
       "  <thead>\n",
       "    <tr style=\"text-align: right;\">\n",
       "      <th></th>\n",
       "      <th>City</th>\n",
       "      <th>Datetime</th>\n",
       "      <th>TrafficIndexLive</th>\n",
       "      <th>JamsCount</th>\n",
       "      <th>JamsDelay</th>\n",
       "      <th>JamsLength</th>\n",
       "      <th>TrafficIndexWeekAgo</th>\n",
       "      <th>TravelTimeHistoric</th>\n",
       "      <th>TravelTimeLive</th>\n",
       "      <th>Weather_conditions</th>\n",
       "    </tr>\n",
       "  </thead>\n",
       "  <tbody>\n",
       "    <tr>\n",
       "      <th>0</th>\n",
       "      <td>Abudhabi</td>\n",
       "      <td>2023-07-07 08:01:30</td>\n",
       "      <td>6</td>\n",
       "      <td>4</td>\n",
       "      <td>15.6</td>\n",
       "      <td>0.7</td>\n",
       "      <td>13</td>\n",
       "      <td>59.611918</td>\n",
       "      <td>54.803617</td>\n",
       "      <td>Normal</td>\n",
       "    </tr>\n",
       "    <tr>\n",
       "      <th>1</th>\n",
       "      <td>Abudhabi</td>\n",
       "      <td>2023-07-07 09:01:30</td>\n",
       "      <td>7</td>\n",
       "      <td>7</td>\n",
       "      <td>20.5</td>\n",
       "      <td>1.7</td>\n",
       "      <td>8</td>\n",
       "      <td>60.221387</td>\n",
       "      <td>56.118629</td>\n",
       "      <td>Normal</td>\n",
       "    </tr>\n",
       "    <tr>\n",
       "      <th>2</th>\n",
       "      <td>Abudhabi</td>\n",
       "      <td>2023-07-07 10:46:30</td>\n",
       "      <td>7</td>\n",
       "      <td>8</td>\n",
       "      <td>25.0</td>\n",
       "      <td>2.8</td>\n",
       "      <td>6</td>\n",
       "      <td>59.161978</td>\n",
       "      <td>55.518834</td>\n",
       "      <td>Normal</td>\n",
       "    </tr>\n",
       "    <tr>\n",
       "      <th>3</th>\n",
       "      <td>Abudhabi</td>\n",
       "      <td>2023-07-07 11:16:30</td>\n",
       "      <td>8</td>\n",
       "      <td>11</td>\n",
       "      <td>30.6</td>\n",
       "      <td>5.5</td>\n",
       "      <td>6</td>\n",
       "      <td>59.738138</td>\n",
       "      <td>56.413917</td>\n",
       "      <td>Normal</td>\n",
       "    </tr>\n",
       "    <tr>\n",
       "      <th>4</th>\n",
       "      <td>Abudhabi</td>\n",
       "      <td>2023-07-07 12:01:30</td>\n",
       "      <td>8</td>\n",
       "      <td>20</td>\n",
       "      <td>62.1</td>\n",
       "      <td>6.5</td>\n",
       "      <td>5</td>\n",
       "      <td>58.958314</td>\n",
       "      <td>56.059246</td>\n",
       "      <td>Normal</td>\n",
       "    </tr>\n",
       "  </tbody>\n",
       "</table>\n",
       "</div>"
      ],
      "text/plain": [
       "       City             Datetime  TrafficIndexLive  JamsCount  JamsDelay  \\\n",
       "0  Abudhabi  2023-07-07 08:01:30                 6          4       15.6   \n",
       "1  Abudhabi  2023-07-07 09:01:30                 7          7       20.5   \n",
       "2  Abudhabi  2023-07-07 10:46:30                 7          8       25.0   \n",
       "3  Abudhabi  2023-07-07 11:16:30                 8         11       30.6   \n",
       "4  Abudhabi  2023-07-07 12:01:30                 8         20       62.1   \n",
       "\n",
       "   JamsLength  TrafficIndexWeekAgo  TravelTimeHistoric  TravelTimeLive  \\\n",
       "0         0.7                   13           59.611918       54.803617   \n",
       "1         1.7                    8           60.221387       56.118629   \n",
       "2         2.8                    6           59.161978       55.518834   \n",
       "3         5.5                    6           59.738138       56.413917   \n",
       "4         6.5                    5           58.958314       56.059246   \n",
       "\n",
       "  Weather_conditions  \n",
       "0             Normal  \n",
       "1             Normal  \n",
       "2             Normal  \n",
       "3             Normal  \n",
       "4             Normal  "
      ]
     },
     "execution_count": 47,
     "metadata": {},
     "output_type": "execute_result"
    }
   ],
   "source": [
    "df.head()"
   ]
  },
  {
   "cell_type": "code",
   "execution_count": 48,
   "metadata": {},
   "outputs": [],
   "source": [
    "df = df.drop('City',axis =1)\n",
    "df = df.drop('Datetime', axis =1)"
   ]
  },
  {
   "cell_type": "code",
   "execution_count": 49,
   "metadata": {},
   "outputs": [
    {
     "data": {
      "text/html": [
       "<div>\n",
       "<style scoped>\n",
       "    .dataframe tbody tr th:only-of-type {\n",
       "        vertical-align: middle;\n",
       "    }\n",
       "\n",
       "    .dataframe tbody tr th {\n",
       "        vertical-align: top;\n",
       "    }\n",
       "\n",
       "    .dataframe thead th {\n",
       "        text-align: right;\n",
       "    }\n",
       "</style>\n",
       "<table border=\"1\" class=\"dataframe\">\n",
       "  <thead>\n",
       "    <tr style=\"text-align: right;\">\n",
       "      <th></th>\n",
       "      <th>TrafficIndexLive</th>\n",
       "      <th>JamsCount</th>\n",
       "      <th>JamsDelay</th>\n",
       "      <th>JamsLength</th>\n",
       "      <th>TrafficIndexWeekAgo</th>\n",
       "      <th>TravelTimeHistoric</th>\n",
       "      <th>TravelTimeLive</th>\n",
       "      <th>Weather_conditions</th>\n",
       "    </tr>\n",
       "  </thead>\n",
       "  <tbody>\n",
       "    <tr>\n",
       "      <th>0</th>\n",
       "      <td>6</td>\n",
       "      <td>4</td>\n",
       "      <td>15.6</td>\n",
       "      <td>0.7</td>\n",
       "      <td>13</td>\n",
       "      <td>59.611918</td>\n",
       "      <td>54.803617</td>\n",
       "      <td>Normal</td>\n",
       "    </tr>\n",
       "    <tr>\n",
       "      <th>1</th>\n",
       "      <td>7</td>\n",
       "      <td>7</td>\n",
       "      <td>20.5</td>\n",
       "      <td>1.7</td>\n",
       "      <td>8</td>\n",
       "      <td>60.221387</td>\n",
       "      <td>56.118629</td>\n",
       "      <td>Normal</td>\n",
       "    </tr>\n",
       "    <tr>\n",
       "      <th>2</th>\n",
       "      <td>7</td>\n",
       "      <td>8</td>\n",
       "      <td>25.0</td>\n",
       "      <td>2.8</td>\n",
       "      <td>6</td>\n",
       "      <td>59.161978</td>\n",
       "      <td>55.518834</td>\n",
       "      <td>Normal</td>\n",
       "    </tr>\n",
       "    <tr>\n",
       "      <th>3</th>\n",
       "      <td>8</td>\n",
       "      <td>11</td>\n",
       "      <td>30.6</td>\n",
       "      <td>5.5</td>\n",
       "      <td>6</td>\n",
       "      <td>59.738138</td>\n",
       "      <td>56.413917</td>\n",
       "      <td>Normal</td>\n",
       "    </tr>\n",
       "    <tr>\n",
       "      <th>4</th>\n",
       "      <td>8</td>\n",
       "      <td>20</td>\n",
       "      <td>62.1</td>\n",
       "      <td>6.5</td>\n",
       "      <td>5</td>\n",
       "      <td>58.958314</td>\n",
       "      <td>56.059246</td>\n",
       "      <td>Normal</td>\n",
       "    </tr>\n",
       "  </tbody>\n",
       "</table>\n",
       "</div>"
      ],
      "text/plain": [
       "   TrafficIndexLive  JamsCount  JamsDelay  JamsLength  TrafficIndexWeekAgo  \\\n",
       "0                 6          4       15.6         0.7                   13   \n",
       "1                 7          7       20.5         1.7                    8   \n",
       "2                 7          8       25.0         2.8                    6   \n",
       "3                 8         11       30.6         5.5                    6   \n",
       "4                 8         20       62.1         6.5                    5   \n",
       "\n",
       "   TravelTimeHistoric  TravelTimeLive Weather_conditions  \n",
       "0           59.611918       54.803617             Normal  \n",
       "1           60.221387       56.118629             Normal  \n",
       "2           59.161978       55.518834             Normal  \n",
       "3           59.738138       56.413917             Normal  \n",
       "4           58.958314       56.059246             Normal  "
      ]
     },
     "execution_count": 49,
     "metadata": {},
     "output_type": "execute_result"
    }
   ],
   "source": [
    "df.head()"
   ]
  },
  {
   "cell_type": "markdown",
   "metadata": {
    "id": "OjwISK8nocUT"
   },
   "source": [
    "### Identify and analyze patterns in the data."
   ]
  },
  {
   "cell_type": "code",
   "execution_count": 50,
   "metadata": {
    "id": "gw8jkuYIpKeH"
   },
   "outputs": [
    {
     "data": {
      "text/html": [
       "<div>\n",
       "<style scoped>\n",
       "    .dataframe tbody tr th:only-of-type {\n",
       "        vertical-align: middle;\n",
       "    }\n",
       "\n",
       "    .dataframe tbody tr th {\n",
       "        vertical-align: top;\n",
       "    }\n",
       "\n",
       "    .dataframe thead th {\n",
       "        text-align: right;\n",
       "    }\n",
       "</style>\n",
       "<table border=\"1\" class=\"dataframe\">\n",
       "  <thead>\n",
       "    <tr style=\"text-align: right;\">\n",
       "      <th></th>\n",
       "      <th>TrafficIndexLive</th>\n",
       "      <th>JamsCount</th>\n",
       "      <th>JamsDelay</th>\n",
       "      <th>JamsLength</th>\n",
       "      <th>TrafficIndexWeekAgo</th>\n",
       "      <th>TravelTimeHistoric</th>\n",
       "      <th>TravelTimeLive</th>\n",
       "    </tr>\n",
       "  </thead>\n",
       "  <tbody>\n",
       "    <tr>\n",
       "      <th>count</th>\n",
       "      <td>66639.000000</td>\n",
       "      <td>66639.000000</td>\n",
       "      <td>66639.000000</td>\n",
       "      <td>66639.000000</td>\n",
       "      <td>66639.000000</td>\n",
       "      <td>62772.000000</td>\n",
       "      <td>62772.000000</td>\n",
       "    </tr>\n",
       "    <tr>\n",
       "      <th>mean</th>\n",
       "      <td>14.043113</td>\n",
       "      <td>74.278531</td>\n",
       "      <td>288.353877</td>\n",
       "      <td>49.316135</td>\n",
       "      <td>13.981737</td>\n",
       "      <td>70.706601</td>\n",
       "      <td>70.048451</td>\n",
       "    </tr>\n",
       "    <tr>\n",
       "      <th>std</th>\n",
       "      <td>13.488906</td>\n",
       "      <td>107.452022</td>\n",
       "      <td>470.013224</td>\n",
       "      <td>85.352525</td>\n",
       "      <td>13.454922</td>\n",
       "      <td>10.588384</td>\n",
       "      <td>11.966725</td>\n",
       "    </tr>\n",
       "    <tr>\n",
       "      <th>min</th>\n",
       "      <td>0.000000</td>\n",
       "      <td>0.000000</td>\n",
       "      <td>0.000000</td>\n",
       "      <td>0.000000</td>\n",
       "      <td>0.000000</td>\n",
       "      <td>49.381346</td>\n",
       "      <td>46.723235</td>\n",
       "    </tr>\n",
       "    <tr>\n",
       "      <th>25%</th>\n",
       "      <td>3.000000</td>\n",
       "      <td>9.000000</td>\n",
       "      <td>27.700000</td>\n",
       "      <td>3.000000</td>\n",
       "      <td>3.000000</td>\n",
       "      <td>63.142591</td>\n",
       "      <td>60.712805</td>\n",
       "    </tr>\n",
       "    <tr>\n",
       "      <th>50%</th>\n",
       "      <td>10.000000</td>\n",
       "      <td>29.000000</td>\n",
       "      <td>95.700000</td>\n",
       "      <td>12.200000</td>\n",
       "      <td>10.000000</td>\n",
       "      <td>68.894790</td>\n",
       "      <td>68.247303</td>\n",
       "    </tr>\n",
       "    <tr>\n",
       "      <th>75%</th>\n",
       "      <td>21.000000</td>\n",
       "      <td>95.000000</td>\n",
       "      <td>336.600000</td>\n",
       "      <td>53.500000</td>\n",
       "      <td>21.000000</td>\n",
       "      <td>76.250975</td>\n",
       "      <td>77.043739</td>\n",
       "    </tr>\n",
       "    <tr>\n",
       "      <th>max</th>\n",
       "      <td>138.000000</td>\n",
       "      <td>1359.000000</td>\n",
       "      <td>9989.400000</td>\n",
       "      <td>1173.900000</td>\n",
       "      <td>138.000000</td>\n",
       "      <td>120.140593</td>\n",
       "      <td>134.484139</td>\n",
       "    </tr>\n",
       "  </tbody>\n",
       "</table>\n",
       "</div>"
      ],
      "text/plain": [
       "       TrafficIndexLive     JamsCount     JamsDelay    JamsLength  \\\n",
       "count      66639.000000  66639.000000  66639.000000  66639.000000   \n",
       "mean          14.043113     74.278531    288.353877     49.316135   \n",
       "std           13.488906    107.452022    470.013224     85.352525   \n",
       "min            0.000000      0.000000      0.000000      0.000000   \n",
       "25%            3.000000      9.000000     27.700000      3.000000   \n",
       "50%           10.000000     29.000000     95.700000     12.200000   \n",
       "75%           21.000000     95.000000    336.600000     53.500000   \n",
       "max          138.000000   1359.000000   9989.400000   1173.900000   \n",
       "\n",
       "       TrafficIndexWeekAgo  TravelTimeHistoric  TravelTimeLive  \n",
       "count         66639.000000        62772.000000    62772.000000  \n",
       "mean             13.981737           70.706601       70.048451  \n",
       "std              13.454922           10.588384       11.966725  \n",
       "min               0.000000           49.381346       46.723235  \n",
       "25%               3.000000           63.142591       60.712805  \n",
       "50%              10.000000           68.894790       68.247303  \n",
       "75%              21.000000           76.250975       77.043739  \n",
       "max             138.000000          120.140593      134.484139  "
      ]
     },
     "execution_count": 50,
     "metadata": {},
     "output_type": "execute_result"
    }
   ],
   "source": [
    "df.describe()"
   ]
  },
  {
   "cell_type": "markdown",
   "metadata": {
    "id": "4k-cDvL8oflR"
   },
   "source": [
    "### Visualize the distribution of key variables (e.g., Traffic_Index, Date)."
   ]
  },
  {
   "cell_type": "code",
   "execution_count": 51,
   "metadata": {
    "id": "V7I156lepKv1"
   },
   "outputs": [],
   "source": [
    "import matplotlib as plt"
   ]
  },
  {
   "cell_type": "code",
   "execution_count": 52,
   "metadata": {},
   "outputs": [
    {
     "data": {
      "text/plain": [
       "array([[<Axes: title={'center': 'TrafficIndexLive'}>,\n",
       "        <Axes: title={'center': 'JamsCount'}>,\n",
       "        <Axes: title={'center': 'JamsDelay'}>],\n",
       "       [<Axes: title={'center': 'JamsLength'}>,\n",
       "        <Axes: title={'center': 'TrafficIndexWeekAgo'}>,\n",
       "        <Axes: title={'center': 'TravelTimeHistoric'}>],\n",
       "       [<Axes: title={'center': 'TravelTimeLive'}>, <Axes: >, <Axes: >]],\n",
       "      dtype=object)"
      ]
     },
     "execution_count": 52,
     "metadata": {},
     "output_type": "execute_result"
    },
    {
     "data": {
      "image/png": "[encoded data removed]",
      "text/plain": [
       "<Figure size 640x480 with 9 Axes>"
      ]
     },
     "metadata": {},
     "output_type": "display_data"
    }
   ],
   "source": [
    "df.hist()"
   ]
  },
  {
   "cell_type": "markdown",
   "metadata": {
    "id": "Lz4jQtNBoih-"
   },
   "source": [
    "### Explore relationships between variables (e.g., Traffic_Index vs. Weather_Condition).\n"
   ]
  },
  {
   "cell_type": "code",
   "execution_count": 60,
   "metadata": {
    "id": "2Txh8eI1pLJQ"
   },
   "outputs": [],
   "source": [
    "import matplotlib as plt\n",
    "import seaborn as sns"
   ]
  },
  {
   "cell_type": "code",
   "execution_count": 62,
   "metadata": {},
   "outputs": [
    {
     "data": {
      "text/plain": [
       "<Axes: xlabel='Weather_conditions', ylabel='TrafficIndexLive'>"
      ]
     },
     "execution_count": 62,
     "metadata": {},
     "output_type": "execute_result"
    },
    {
     "data": {
      "image/png": "[encoded data removed]",
      "text/plain": [
       "<Figure size 640x480 with 1 Axes>"
      ]
     },
     "metadata": {},
     "output_type": "display_data"
    }
   ],
   "source": [
    "sns.violinplot(data = df.head(),x = 'Weather_conditions', y='TrafficIndexLive', orient=\"v\" ,cut=0)"
   ]
  },
  {
   "cell_type": "markdown",
   "metadata": {
    "id": "mZiDh1gronRD"
   },
   "source": [
    "## 2. Data Visualization"
   ]
  },
  {
   "cell_type": "markdown",
   "metadata": {
    "id": "WL4wC3iSqWuO"
   },
   "source": [
    "* Ensure the visualizations are clear and informative."
   ]
  },
  {
   "cell_type": "markdown",
   "metadata": {
    "id": "VfUFvWxUopoh"
   },
   "source": [
    "### Create visualizations to illustrate the findings from the EDA.\n"
   ]
  },
  {
   "cell_type": "code",
   "execution_count": null,
   "metadata": {
    "id": "KAlacPHypMVh"
   },
   "outputs": [],
   "source": []
  },
  {
   "cell_type": "markdown",
   "metadata": {
    "id": "G4KCbzg4osSW"
   },
   "source": [
    "### Use appropriate plots such as histograms, bar charts, pie charts, scatter plots, and heatmaps."
   ]
  },
  {
   "cell_type": "code",
   "execution_count": 68,
   "metadata": {
    "id": "IKyAKt5apMp4"
   },
   "outputs": [
    {
     "data": {
      "text/plain": [
       "array([[<Axes: title={'center': 'TrafficIndexLive'}>,\n",
       "        <Axes: title={'center': 'JamsCount'}>,\n",
       "        <Axes: title={'center': 'JamsDelay'}>],\n",
       "       [<Axes: title={'center': 'JamsLength'}>,\n",
       "        <Axes: title={'center': 'TrafficIndexWeekAgo'}>,\n",
       "        <Axes: title={'center': 'TravelTimeHistoric'}>],\n",
       "       [<Axes: title={'center': 'TravelTimeLive'}>, <Axes: >, <Axes: >]],\n",
       "      dtype=object)"
      ]
     },
     "execution_count": 68,
     "metadata": {},
     "output_type": "execute_result"
    },
    {
     "data": {
      "image/png": "[encoded data removed]",
      "text/plain": [
       "<Figure size 640x480 with 9 Axes>"
      ]
     },
     "metadata": {},
     "output_type": "display_data"
    }
   ],
   "source": [
    "df.hist()"
   ]
  },
  {
   "cell_type": "markdown",
   "metadata": {
    "id": "breh9YkZoxiT"
   },
   "source": [
    "## 3. Insights and Conclusions"
   ]
  },
  {
   "cell_type": "markdown",
   "metadata": {
    "id": "a9akovSwo5l2"
   },
   "source": [
    "* <h3>Summarize the key insights gained from the data analysis.<h3/>\n",
    "* <h3>Draw conclusions based on the patterns observed in the data.<h3/>"
   ]
  },
  {
   "cell_type": "code",
   "execution_count": null,
   "metadata": {},
   "outputs": [],
   "source": []
  },
  {
   "cell_type": "code",
   "execution_count": null,
   "metadata": {},
   "outputs": [],
   "source": []
  }
 ],
 "metadata": {
  "colab": {
   "provenance": []
  },
  "kernelspec": {
   "display_name": "Python 3 (ipykernel)",
   "language": "python",
   "name": "python3"
  },
  "language_info": {
   "codemirror_mode": {
    "name": "ipython",
    "version": 3
   },
   "file_extension": ".py",
   "mimetype": "text/x-python",
   "name": "python",
   "nbconvert_exporter": "python",
   "pygments_lexer": "ipython3",
   "version": "3.11.5"
  }
 },
 "nbformat": 4,
 "nbformat_minor": 1
}
