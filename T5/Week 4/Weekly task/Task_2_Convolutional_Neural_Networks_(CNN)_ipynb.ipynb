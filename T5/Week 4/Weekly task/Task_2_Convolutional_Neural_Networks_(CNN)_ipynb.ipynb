{
  "cells": [
    {
      "cell_type": "markdown",
      "id": "69e7471b",
      "metadata": {
        "id": "69e7471b"
      },
      "source": [
        "# Exam on Convolutional Neural Networks (CNN)\n",
        "\n",
        "Welcome to the Convolutional Neural Networks (CNN) practical exam. In this exam, you will work on an image classification task to predict the type of traffic sign. You are provided with a dataset of traffic sign images, and your task is to build, train, and evaluate a CNN model.\n",
        "\n",
        "---\n",
        "\n",
        "## Dataset Overview\n",
        "### **Dataset:**\n",
        "* Just run the command under the `Load Data` section to get the data downloaded and unzipped or you can access it [here](https://drive.google.com/file/d/1HwMV-Lt_sWoxc5v6igmTxTwomS3DR6cQ/view?usp=sharing)\n",
        "### **Dataset Name:** Traffic Signs\n",
        "\n",
        "### **Description:**  \n",
        "The dataset contains images of various German traffic signs labeled for classification purposes. Each image belongs to one of the 43 classes, representing different types of traffic signs.\n",
        "\n",
        "### **Labels:**\n",
        "```python\n",
        "classes = {\n",
        "    0:  'Speed limit (20km/h)',\n",
        "    1:  'Speed limit (30km/h)',\n",
        "    2:  'Speed limit (50km/h)',\n",
        "    3:  'Speed limit (60km/h)',\n",
        "    4:  'Speed limit (70km/h)',\n",
        "    5:  'Speed limit (80km/h)',\n",
        "    6:  'End of speed limit (80km/h)',\n",
        "    7:  'Speed limit (100km/h)',\n",
        "    8:  'Speed limit (120km/h)',\n",
        "    9:  'No passing',\n",
        "    10: 'No passing veh over 3.5 tons',\n",
        "    11: 'Right-of-way at intersection',\n",
        "    12: 'Priority road',\n",
        "    13: 'Yield',\n",
        "    14: 'Stop',\n",
        "    15: 'No vehicles',\n",
        "    16: 'Veh > 3.5 tons prohibited',\n",
        "    17: 'No entry',\n",
        "    18: 'General caution',\n",
        "    19: 'Dangerous curve left',\n",
        "    20: 'Dangerous curve right',\n",
        "    21: 'Double curve',\n",
        "    22: 'Bumpy road',\n",
        "    23: 'Slippery road',\n",
        "    24: 'Road narrows on the right',\n",
        "    25: 'Road work',\n",
        "    26: 'Traffic signals',\n",
        "    27: 'Pedestrians',\n",
        "    28: 'Children crossing',\n",
        "    29: 'Bicycles crossing',\n",
        "    30: 'Beware of ice/snow',\n",
        "    31: 'Wild animals crossing',\n",
        "    32: 'End speed + passing limits',\n",
        "    33: 'Turn right ahead',\n",
        "    34: 'Turn left ahead',\n",
        "    35: 'Ahead only',\n",
        "    36: 'Go straight or right',\n",
        "    37: 'Go straight or left',\n",
        "    38: 'Keep right',\n",
        "    39: 'Keep left',\n",
        "    40: 'Roundabout mandatory',\n",
        "    41: 'End of no passing',\n",
        "    42: 'End no passing veh > 3.5 tons'\n",
        "}\n",
        "```\n",
        "\n"
      ]
    },
    {
      "cell_type": "markdown",
      "id": "66c6f645",
      "metadata": {
        "id": "66c6f645"
      },
      "source": [
        "## Load Data\n",
        "Run the following command to get the data and unzip it, alternatively you can access the data [here](https://drive.google.com/file/d/1HwMV-Lt_sWoxc5v6igmTxTwomS3DR6cQ/view?usp=sharing)."
      ]
    },
    {
      "cell_type": "code",
      "execution_count": null,
      "id": "ee08de6b",
      "metadata": {
        "id": "ee08de6b"
      },
      "outputs": [],
      "source": [
        "#https://drive.google.com/file/d/1HwMV-Lt_sWoxc5v6igmTxTwomS3DR6cQ/view?usp=sharing\n",
        "!pip install gdown\n",
        "!gdown --id 1HwMV-Lt_sWoxc5v6igmTxTwomS3DR6cQ\n",
        "!unzip Traffic_Signs.zip"
      ]
    },
    {
      "cell_type": "code",
      "source": [
        "!kaggle datasets download -d khaledzsa/traffic-signs\n",
        "!unzip -q traffic-signs.zip"
      ],
      "metadata": {
        "colab": {
          "base_uri": "https://localhost:8080/"
        },
        "id": "QuLtmyTDkGb8",
        "outputId": "dedb4f51-cac1-4f3e-9d58-af52c0916560"
      },
      "id": "QuLtmyTDkGb8",
      "execution_count": 1,
      "outputs": [
        {
          "output_type": "stream",
          "name": "stdout",
          "text": [
            "Dataset URL: https://www.kaggle.com/datasets/khaledzsa/traffic-signs\n",
            "License(s): unknown\n",
            "Downloading traffic-signs.zip to /content\n",
            " 98% 302M/309M [00:03<00:00, 89.6MB/s]\n",
            "100% 309M/309M [00:03<00:00, 102MB/s] \n"
          ]
        }
      ]
    },
    {
      "cell_type": "markdown",
      "id": "9bb9f30e",
      "metadata": {
        "id": "9bb9f30e"
      },
      "source": [
        "## Import Libraries"
      ]
    },
    {
      "cell_type": "code",
      "execution_count": 14,
      "id": "22207f85",
      "metadata": {
        "id": "22207f85"
      },
      "outputs": [],
      "source": [
        "import tensorflow as tf\n",
        "from tensorflow.keras.models import Sequential\n",
        "from tensorflow.keras.layers import Conv2D, MaxPooling2D, Flatten, Dense, Dropout,Activation\n",
        "from tensorflow.keras.preprocessing.image import ImageDataGenerator\n",
        "from keras.optimizers import Adam\n",
        "from sklearn.metrics import confusion_matrix\n",
        "import shutil\n",
        "import glob\n",
        "import itertools\n",
        "import os\n",
        "import random\n",
        "import numpy as np\n",
        "import matplotlib.pyplot as plt\n",
        "from keras import models,layers\n",
        "from sklearn.model_selection import train_test_split"
      ]
    },
    {
      "cell_type": "markdown",
      "id": "3aa9945d",
      "metadata": {
        "id": "3aa9945d"
      },
      "source": [
        "## Data Preprocessing\n",
        "In this section, preprocess the dataset by:\n",
        "- Loading the images from the file paths.\n",
        "- Resizing the images to a consistent size.\n",
        "- Normalizing pixel values.\n",
        "\n",
        "Add more if needed!"
      ]
    },
    {
      "cell_type": "code",
      "execution_count": 8,
      "id": "72042d3e",
      "metadata": {
        "id": "72042d3e"
      },
      "outputs": [],
      "source": [
        "#load the images data set\n",
        "df = '/content/Traffic_Signs/Traffic_Signs/Dataset'"
      ]
    },
    {
      "cell_type": "code",
      "source": [
        "df_batches = ImageDataGenerator(preprocessing_function=tf.keras.applications.vgg16.preprocess_input)\\\n",
        "    .flow_from_directory(directory=df,\n",
        "                         target_size=(224,224),\n",
        "                         classes = ['0','1','2','3','4','5','6','7','8','9','10',\n",
        "                                    '11','12','13','14','15','16','17','18','19',\n",
        "                                    '20','21','22','23','24','25','26','27','28',\n",
        "                                    '29','30','31','32','33','34','35','36','37',\n",
        "                                    '38','39','40','41','24'], batch_size=10)"
      ],
      "metadata": {
        "colab": {
          "base_uri": "https://localhost:8080/"
        },
        "id": "mwU4BrBqkzvh",
        "outputId": "5e8bb3eb-4559-4fe0-b000-b41d1d3cbc24"
      },
      "id": "mwU4BrBqkzvh",
      "execution_count": 9,
      "outputs": [
        {
          "output_type": "stream",
          "name": "stdout",
          "text": [
            "Found 39239 images belonging to 43 classes.\n"
          ]
        }
      ]
    },
    {
      "cell_type": "code",
      "source": [
        "#bting my images\n",
        "img , label = next(df_batches)"
      ],
      "metadata": {
        "id": "UyNEjKRym2nr"
      },
      "id": "UyNEjKRym2nr",
      "execution_count": 11,
      "outputs": []
    },
    {
      "cell_type": "code",
      "source": [
        "#functin to plot the images\n",
        "def plotImages(images_arr):\n",
        "    fig, axes = plt.subplots(1,10, figsize=(20,20))\n",
        "    axes = axes.flatten()\n",
        "    for img, ax in zip(images_arr, axes):\n",
        "        ax.imshow(img)\n",
        "        ax.axis('off')\n",
        "    plt.tight_layout\n",
        "    plt.show()"
      ],
      "metadata": {
        "id": "5R0Paeq6nFbl"
      },
      "id": "5R0Paeq6nFbl",
      "execution_count": 12,
      "outputs": []
    },
    {
      "cell_type": "code",
      "source": [
        "#plot the images with labels\n",
        "plotImages(img)\n",
        "print(label)\n"
      ],
      "metadata": {
        "colab": {
          "base_uri": "https://localhost:8080/",
          "height": 663
        },
        "id": "Bq8ftepNnGRL",
        "outputId": "fad2b5f6-3a09-4b35-e75b-0d146f757f67"
      },
      "id": "Bq8ftepNnGRL",
      "execution_count": 13,
      "outputs": [
        {
          "output_type": "stream",
          "name": "stderr",
          "text": [
            "WARNING:matplotlib.image:Clipping input data to the valid range for imshow with RGB data ([0..1] for floats or [0..255] for integers).\n",
            "WARNING:matplotlib.image:Clipping input data to the valid range for imshow with RGB data ([0..1] for floats or [0..255] for integers).\n",
            "WARNING:matplotlib.image:Clipping input data to the valid range for imshow with RGB data ([0..1] for floats or [0..255] for integers).\n",
            "WARNING:matplotlib.image:Clipping input data to the valid range for imshow with RGB data ([0..1] for floats or [0..255] for integers).\n",
            "WARNING:matplotlib.image:Clipping input data to the valid range for imshow with RGB data ([0..1] for floats or [0..255] for integers).\n",
            "WARNING:matplotlib.image:Clipping input data to the valid range for imshow with RGB data ([0..1] for floats or [0..255] for integers).\n",
            "WARNING:matplotlib.image:Clipping input data to the valid range for imshow with RGB data ([0..1] for floats or [0..255] for integers).\n",
            "WARNING:matplotlib.image:Clipping input data to the valid range for imshow with RGB data ([0..1] for floats or [0..255] for integers).\n",
            "WARNING:matplotlib.image:Clipping input data to the valid range for imshow with RGB data ([0..1] for floats or [0..255] for integers).\n",
            "WARNING:matplotlib.image:Clipping input data to the valid range for imshow with RGB data ([0..1] for floats or [0..255] for integers).\n"
          ]
        },
        {
          "output_type": "display_data",
          "data": {
            "text/plain": [
              "<Figure size 2000x2000 with 10 Axes>"
            ],
            "image/png": "[encoded data removed]"
          },
          "metadata": {}
        },
        {
          "output_type": "stream",
          "name": "stdout",
          "text": [
            "[[0. 0. 0. 1. 0. 0. 0. 0. 0. 0. 0. 0. 0. 0. 0. 0. 0. 0. 0. 0. 0. 0. 0. 0.\n",
            "  0. 0. 0. 0. 0. 0. 0. 0. 0. 0. 0. 0. 0. 0. 0. 0. 0. 0.]\n",
            " [0. 0. 0. 0. 0. 0. 0. 0. 0. 0. 0. 0. 0. 1. 0. 0. 0. 0. 0. 0. 0. 0. 0. 0.\n",
            "  0. 0. 0. 0. 0. 0. 0. 0. 0. 0. 0. 0. 0. 0. 0. 0. 0. 0.]\n",
            " [0. 1. 0. 0. 0. 0. 0. 0. 0. 0. 0. 0. 0. 0. 0. 0. 0. 0. 0. 0. 0. 0. 0. 0.\n",
            "  0. 0. 0. 0. 0. 0. 0. 0. 0. 0. 0. 0. 0. 0. 0. 0. 0. 0.]\n",
            " [0. 0. 0. 0. 0. 0. 0. 0. 0. 0. 0. 0. 1. 0. 0. 0. 0. 0. 0. 0. 0. 0. 0. 0.\n",
            "  0. 0. 0. 0. 0. 0. 0. 0. 0. 0. 0. 0. 0. 0. 0. 0. 0. 0.]\n",
            " [0. 0. 0. 0. 0. 0. 0. 0. 0. 0. 0. 0. 0. 0. 0. 0. 0. 0. 0. 0. 0. 0. 0. 0.\n",
            "  0. 0. 0. 0. 0. 0. 0. 0. 0. 0. 1. 0. 0. 0. 0. 0. 0. 0.]\n",
            " [0. 0. 0. 0. 0. 0. 0. 0. 0. 0. 0. 0. 0. 0. 0. 0. 0. 0. 0. 0. 0. 0. 0. 0.\n",
            "  0. 0. 0. 0. 0. 0. 0. 0. 0. 0. 0. 0. 0. 1. 0. 0. 0. 0.]\n",
            " [0. 1. 0. 0. 0. 0. 0. 0. 0. 0. 0. 0. 0. 0. 0. 0. 0. 0. 0. 0. 0. 0. 0. 0.\n",
            "  0. 0. 0. 0. 0. 0. 0. 0. 0. 0. 0. 0. 0. 0. 0. 0. 0. 0.]\n",
            " [0. 0. 0. 0. 0. 0. 0. 0. 0. 0. 0. 0. 0. 0. 0. 0. 0. 0. 1. 0. 0. 0. 0. 0.\n",
            "  0. 0. 0. 0. 0. 0. 0. 0. 0. 0. 0. 0. 0. 0. 0. 0. 0. 0.]\n",
            " [0. 0. 0. 0. 0. 0. 0. 0. 0. 0. 0. 0. 0. 0. 1. 0. 0. 0. 0. 0. 0. 0. 0. 0.\n",
            "  0. 0. 0. 0. 0. 0. 0. 0. 0. 0. 0. 0. 0. 0. 0. 0. 0. 0.]\n",
            " [0. 0. 0. 0. 0. 0. 0. 0. 0. 0. 0. 0. 0. 0. 0. 0. 0. 0. 1. 0. 0. 0. 0. 0.\n",
            "  0. 0. 0. 0. 0. 0. 0. 0. 0. 0. 0. 0. 0. 0. 0. 0. 0. 0.]]\n"
          ]
        }
      ]
    },
    {
      "cell_type": "markdown",
      "id": "541f3c2b",
      "metadata": {
        "id": "541f3c2b"
      },
      "source": [
        "## Data Splitting\n",
        "In this section, we will split our dataset into three parts:\n",
        "\n",
        "* Training set (70%).\n",
        "* Validation set (15%).\n",
        "* Test set (15%)."
      ]
    },
    {
      "cell_type": "code",
      "execution_count": 15,
      "id": "cd2cca39",
      "metadata": {
        "id": "cd2cca39"
      },
      "outputs": [],
      "source": [
        "X_train, X_test, y_train, y_test = train_test_split(img, label, test_size=0.15, random_state=42)\n",
        "X_train, X_val, y_train, y_val = train_test_split(X_train, y_train, test_size=0.15, random_state=42)"
      ]
    },
    {
      "cell_type": "markdown",
      "id": "83974596",
      "metadata": {
        "id": "83974596"
      },
      "source": [
        "## Building the CNN Model\n",
        "In this section, define the architecture of the CNN model. The architecture may consist of:\n",
        "- Convolutional layers with max-pooling\n",
        "- Dropout layers\n",
        "- Flatten layer\n",
        "- Dense layers\n",
        "- Output layer\n",
        "\n",
        "Add and remove any of these as needed!"
      ]
    },
    {
      "cell_type": "code",
      "execution_count": 58,
      "id": "977da65a",
      "metadata": {
        "id": "977da65a"
      },
      "outputs": [],
      "source": [
        "#bulding the model\n",
        "model = Sequential([\n",
        "    Conv2D(filters=32, kernel_size=(3,3) ,activation = 'relu', padding = 'same' , input_shape=(224,224,3)),\n",
        "    MaxPooling2D(pool_size=(2,2), strides=2),\n",
        "    Conv2D(filters=64, kernel_size=(3,3),activation = 'relu', padding = 'same'),\n",
        "    MaxPooling2D(pool_size=(2,2), strides=2),\n",
        "    Flatten(),\n",
        "    Dense(units=42, activation='softmax')\n",
        "])"
      ]
    },
    {
      "cell_type": "code",
      "source": [
        "y_train"
      ],
      "metadata": {
        "colab": {
          "base_uri": "https://localhost:8080/"
        },
        "id": "FziuKu89rmYQ",
        "outputId": "498a9039-a3db-4b7c-fabb-9b0b591b0a34"
      },
      "id": "FziuKu89rmYQ",
      "execution_count": 38,
      "outputs": [
        {
          "output_type": "execute_result",
          "data": {
            "text/plain": [
              "array([[0., 0., 0., 0., 0., 0., 0., 0., 0., 0., 0., 0., 0., 0., 0., 0.,\n",
              "        0., 0., 0., 0., 0., 0., 0., 0., 0., 0., 0., 0., 0., 0., 0., 0.,\n",
              "        0., 0., 0., 0., 0., 1., 0., 0., 0., 0.],\n",
              "       [0., 1., 0., 0., 0., 0., 0., 0., 0., 0., 0., 0., 0., 0., 0., 0.,\n",
              "        0., 0., 0., 0., 0., 0., 0., 0., 0., 0., 0., 0., 0., 0., 0., 0.,\n",
              "        0., 0., 0., 0., 0., 0., 0., 0., 0., 0.],\n",
              "       [0., 0., 0., 0., 0., 0., 0., 0., 0., 0., 0., 0., 0., 0., 0., 0.,\n",
              "        0., 0., 1., 0., 0., 0., 0., 0., 0., 0., 0., 0., 0., 0., 0., 0.,\n",
              "        0., 0., 0., 0., 0., 0., 0., 0., 0., 0.],\n",
              "       [0., 0., 0., 0., 0., 0., 0., 0., 0., 0., 0., 0., 0., 0., 0., 0.,\n",
              "        0., 0., 1., 0., 0., 0., 0., 0., 0., 0., 0., 0., 0., 0., 0., 0.,\n",
              "        0., 0., 0., 0., 0., 0., 0., 0., 0., 0.],\n",
              "       [0., 1., 0., 0., 0., 0., 0., 0., 0., 0., 0., 0., 0., 0., 0., 0.,\n",
              "        0., 0., 0., 0., 0., 0., 0., 0., 0., 0., 0., 0., 0., 0., 0., 0.,\n",
              "        0., 0., 0., 0., 0., 0., 0., 0., 0., 0.],\n",
              "       [0., 0., 0., 0., 0., 0., 0., 0., 0., 0., 0., 0., 1., 0., 0., 0.,\n",
              "        0., 0., 0., 0., 0., 0., 0., 0., 0., 0., 0., 0., 0., 0., 0., 0.,\n",
              "        0., 0., 0., 0., 0., 0., 0., 0., 0., 0.]], dtype=float32)"
            ]
          },
          "metadata": {},
          "execution_count": 38
        }
      ]
    },
    {
      "cell_type": "code",
      "source": [
        "model.summary()"
      ],
      "metadata": {
        "colab": {
          "base_uri": "https://localhost:8080/",
          "height": 331
        },
        "id": "yws2CB0un-nu",
        "outputId": "ea4f8854-9bdf-4ae2-cbdb-6a832bbca7fd"
      },
      "id": "yws2CB0un-nu",
      "execution_count": 54,
      "outputs": [
        {
          "output_type": "display_data",
          "data": {
            "text/plain": [
              "\u001b[1mModel: \"sequential_10\"\u001b[0m\n"
            ],
            "text/html": [
              "<pre style=\"white-space:pre;overflow-x:auto;line-height:normal;font-family:Menlo,'DejaVu Sans Mono',consolas,'Courier New',monospace\"><span style=\"font-weight: bold\">Model: \"sequential_10\"</span>\n",
              "</pre>\n"
            ]
          },
          "metadata": {}
        },
        {
          "output_type": "display_data",
          "data": {
            "text/plain": [
              "┏━━━━━━━━━━━━━━━━━━━━━━━━━━━━━━━━━━━━━━┳━━━━━━━━━━━━━━━━━━━━━━━━━━━━━┳━━━━━━━━━━━━━━━━━┓\n",
              "┃\u001b[1m \u001b[0m\u001b[1mLayer (type)                        \u001b[0m\u001b[1m \u001b[0m┃\u001b[1m \u001b[0m\u001b[1mOutput Shape               \u001b[0m\u001b[1m \u001b[0m┃\u001b[1m \u001b[0m\u001b[1m        Param #\u001b[0m\u001b[1m \u001b[0m┃\n",
              "┡━━━━━━━━━━━━━━━━━━━━━━━━━━━━━━━━━━━━━━╇━━━━━━━━━━━━━━━━━━━━━━━━━━━━━╇━━━━━━━━━━━━━━━━━┩\n",
              "│ conv2d_20 (\u001b[38;5;33mConv2D\u001b[0m)                   │ (\u001b[38;5;45mNone\u001b[0m, \u001b[38;5;34m224\u001b[0m, \u001b[38;5;34m224\u001b[0m, \u001b[38;5;34m32\u001b[0m)        │             \u001b[38;5;34m896\u001b[0m │\n",
              "├──────────────────────────────────────┼─────────────────────────────┼─────────────────┤\n",
              "│ max_pooling2d_20 (\u001b[38;5;33mMaxPooling2D\u001b[0m)      │ (\u001b[38;5;45mNone\u001b[0m, \u001b[38;5;34m112\u001b[0m, \u001b[38;5;34m112\u001b[0m, \u001b[38;5;34m32\u001b[0m)        │               \u001b[38;5;34m0\u001b[0m │\n",
              "├──────────────────────────────────────┼─────────────────────────────┼─────────────────┤\n",
              "│ conv2d_21 (\u001b[38;5;33mConv2D\u001b[0m)                   │ (\u001b[38;5;45mNone\u001b[0m, \u001b[38;5;34m112\u001b[0m, \u001b[38;5;34m112\u001b[0m, \u001b[38;5;34m64\u001b[0m)        │          \u001b[38;5;34m18,496\u001b[0m │\n",
              "├──────────────────────────────────────┼─────────────────────────────┼─────────────────┤\n",
              "│ max_pooling2d_21 (\u001b[38;5;33mMaxPooling2D\u001b[0m)      │ (\u001b[38;5;45mNone\u001b[0m, \u001b[38;5;34m56\u001b[0m, \u001b[38;5;34m56\u001b[0m, \u001b[38;5;34m64\u001b[0m)          │               \u001b[38;5;34m0\u001b[0m │\n",
              "├──────────────────────────────────────┼─────────────────────────────┼─────────────────┤\n",
              "│ flatten_10 (\u001b[38;5;33mFlatten\u001b[0m)                 │ (\u001b[38;5;45mNone\u001b[0m, \u001b[38;5;34m200704\u001b[0m)              │               \u001b[38;5;34m0\u001b[0m │\n",
              "├──────────────────────────────────────┼─────────────────────────────┼─────────────────┤\n",
              "│ dense_10 (\u001b[38;5;33mDense\u001b[0m)                     │ (\u001b[38;5;45mNone\u001b[0m, \u001b[38;5;34m42\u001b[0m)                  │       \u001b[38;5;34m8,429,610\u001b[0m │\n",
              "└──────────────────────────────────────┴─────────────────────────────┴─────────────────┘\n"
            ],
            "text/html": [
              "<pre style=\"white-space:pre;overflow-x:auto;line-height:normal;font-family:Menlo,'DejaVu Sans Mono',consolas,'Courier New',monospace\">┏━━━━━━━━━━━━━━━━━━━━━━━━━━━━━━━━━━━━━━┳━━━━━━━━━━━━━━━━━━━━━━━━━━━━━┳━━━━━━━━━━━━━━━━━┓\n",
              "┃<span style=\"font-weight: bold\"> Layer (type)                         </span>┃<span style=\"font-weight: bold\"> Output Shape                </span>┃<span style=\"font-weight: bold\">         Param # </span>┃\n",
              "┡━━━━━━━━━━━━━━━━━━━━━━━━━━━━━━━━━━━━━━╇━━━━━━━━━━━━━━━━━━━━━━━━━━━━━╇━━━━━━━━━━━━━━━━━┩\n",
              "│ conv2d_20 (<span style=\"color: #0087ff; text-decoration-color: #0087ff\">Conv2D</span>)                   │ (<span style=\"color: #00d7ff; text-decoration-color: #00d7ff\">None</span>, <span style=\"color: #00af00; text-decoration-color: #00af00\">224</span>, <span style=\"color: #00af00; text-decoration-color: #00af00\">224</span>, <span style=\"color: #00af00; text-decoration-color: #00af00\">32</span>)        │             <span style=\"color: #00af00; text-decoration-color: #00af00\">896</span> │\n",
              "├──────────────────────────────────────┼─────────────────────────────┼─────────────────┤\n",
              "│ max_pooling2d_20 (<span style=\"color: #0087ff; text-decoration-color: #0087ff\">MaxPooling2D</span>)      │ (<span style=\"color: #00d7ff; text-decoration-color: #00d7ff\">None</span>, <span style=\"color: #00af00; text-decoration-color: #00af00\">112</span>, <span style=\"color: #00af00; text-decoration-color: #00af00\">112</span>, <span style=\"color: #00af00; text-decoration-color: #00af00\">32</span>)        │               <span style=\"color: #00af00; text-decoration-color: #00af00\">0</span> │\n",
              "├──────────────────────────────────────┼─────────────────────────────┼─────────────────┤\n",
              "│ conv2d_21 (<span style=\"color: #0087ff; text-decoration-color: #0087ff\">Conv2D</span>)                   │ (<span style=\"color: #00d7ff; text-decoration-color: #00d7ff\">None</span>, <span style=\"color: #00af00; text-decoration-color: #00af00\">112</span>, <span style=\"color: #00af00; text-decoration-color: #00af00\">112</span>, <span style=\"color: #00af00; text-decoration-color: #00af00\">64</span>)        │          <span style=\"color: #00af00; text-decoration-color: #00af00\">18,496</span> │\n",
              "├──────────────────────────────────────┼─────────────────────────────┼─────────────────┤\n",
              "│ max_pooling2d_21 (<span style=\"color: #0087ff; text-decoration-color: #0087ff\">MaxPooling2D</span>)      │ (<span style=\"color: #00d7ff; text-decoration-color: #00d7ff\">None</span>, <span style=\"color: #00af00; text-decoration-color: #00af00\">56</span>, <span style=\"color: #00af00; text-decoration-color: #00af00\">56</span>, <span style=\"color: #00af00; text-decoration-color: #00af00\">64</span>)          │               <span style=\"color: #00af00; text-decoration-color: #00af00\">0</span> │\n",
              "├──────────────────────────────────────┼─────────────────────────────┼─────────────────┤\n",
              "│ flatten_10 (<span style=\"color: #0087ff; text-decoration-color: #0087ff\">Flatten</span>)                 │ (<span style=\"color: #00d7ff; text-decoration-color: #00d7ff\">None</span>, <span style=\"color: #00af00; text-decoration-color: #00af00\">200704</span>)              │               <span style=\"color: #00af00; text-decoration-color: #00af00\">0</span> │\n",
              "├──────────────────────────────────────┼─────────────────────────────┼─────────────────┤\n",
              "│ dense_10 (<span style=\"color: #0087ff; text-decoration-color: #0087ff\">Dense</span>)                     │ (<span style=\"color: #00d7ff; text-decoration-color: #00d7ff\">None</span>, <span style=\"color: #00af00; text-decoration-color: #00af00\">42</span>)                  │       <span style=\"color: #00af00; text-decoration-color: #00af00\">8,429,610</span> │\n",
              "└──────────────────────────────────────┴─────────────────────────────┴─────────────────┘\n",
              "</pre>\n"
            ]
          },
          "metadata": {}
        },
        {
          "output_type": "display_data",
          "data": {
            "text/plain": [
              "\u001b[1m Total params: \u001b[0m\u001b[38;5;34m8,449,002\u001b[0m (32.23 MB)\n"
            ],
            "text/html": [
              "<pre style=\"white-space:pre;overflow-x:auto;line-height:normal;font-family:Menlo,'DejaVu Sans Mono',consolas,'Courier New',monospace\"><span style=\"font-weight: bold\"> Total params: </span><span style=\"color: #00af00; text-decoration-color: #00af00\">8,449,002</span> (32.23 MB)\n",
              "</pre>\n"
            ]
          },
          "metadata": {}
        },
        {
          "output_type": "display_data",
          "data": {
            "text/plain": [
              "\u001b[1m Trainable params: \u001b[0m\u001b[38;5;34m8,449,002\u001b[0m (32.23 MB)\n"
            ],
            "text/html": [
              "<pre style=\"white-space:pre;overflow-x:auto;line-height:normal;font-family:Menlo,'DejaVu Sans Mono',consolas,'Courier New',monospace\"><span style=\"font-weight: bold\"> Trainable params: </span><span style=\"color: #00af00; text-decoration-color: #00af00\">8,449,002</span> (32.23 MB)\n",
              "</pre>\n"
            ]
          },
          "metadata": {}
        },
        {
          "output_type": "display_data",
          "data": {
            "text/plain": [
              "\u001b[1m Non-trainable params: \u001b[0m\u001b[38;5;34m0\u001b[0m (0.00 B)\n"
            ],
            "text/html": [
              "<pre style=\"white-space:pre;overflow-x:auto;line-height:normal;font-family:Menlo,'DejaVu Sans Mono',consolas,'Courier New',monospace\"><span style=\"font-weight: bold\"> Non-trainable params: </span><span style=\"color: #00af00; text-decoration-color: #00af00\">0</span> (0.00 B)\n",
              "</pre>\n"
            ]
          },
          "metadata": {}
        }
      ]
    },
    {
      "cell_type": "markdown",
      "id": "fe1c0940",
      "metadata": {
        "id": "fe1c0940"
      },
      "source": [
        "## Training the Model\n",
        "Train the CNN model using the training data and validate it on the validation set."
      ]
    },
    {
      "cell_type": "code",
      "execution_count": 59,
      "id": "ce31faf9",
      "metadata": {
        "id": "ce31faf9"
      },
      "outputs": [],
      "source": [
        "#training my model\n",
        "model.compile(optimizer=Adam(learning_rate=0.001), loss='categorical_crossentropy', metrics=['accuracy'])"
      ]
    },
    {
      "cell_type": "code",
      "source": [
        "pred = model.fit(x=X_train, y = y_train ,validation_data=(X_val,y_val), epochs=10, verbose=2)"
      ],
      "metadata": {
        "colab": {
          "base_uri": "https://localhost:8080/"
        },
        "id": "Apflq_AfoRSx",
        "outputId": "99318328-a736-4551-9b3a-e9c013a64e8a"
      },
      "id": "Apflq_AfoRSx",
      "execution_count": 60,
      "outputs": [
        {
          "output_type": "stream",
          "name": "stdout",
          "text": [
            "Epoch 1/10\n",
            "1/1 - 2s - 2s/step - accuracy: 0.0000e+00 - loss: 43.6817 - val_accuracy: 0.0000e+00 - val_loss: 1001.8965\n",
            "Epoch 2/10\n",
            "1/1 - 1s - 718ms/step - accuracy: 0.8333 - loss: 4.1128 - val_accuracy: 0.0000e+00 - val_loss: 1648.7632\n",
            "Epoch 3/10\n",
            "1/1 - 1s - 651ms/step - accuracy: 0.5000 - loss: 143.1281 - val_accuracy: 0.0000e+00 - val_loss: 1964.6748\n",
            "Epoch 4/10\n",
            "1/1 - 1s - 1s/step - accuracy: 0.5000 - loss: 73.4152 - val_accuracy: 0.0000e+00 - val_loss: 1884.5129\n",
            "Epoch 5/10\n",
            "1/1 - 1s - 675ms/step - accuracy: 1.0000 - loss: 0.0000e+00 - val_accuracy: 0.0000e+00 - val_loss: 2057.9771\n",
            "Epoch 6/10\n",
            "1/1 - 1s - 777ms/step - accuracy: 1.0000 - loss: 0.0000e+00 - val_accuracy: 0.0000e+00 - val_loss: 2247.9277\n",
            "Epoch 7/10\n",
            "1/1 - 1s - 1s/step - accuracy: 0.8333 - loss: 7.7026 - val_accuracy: 0.0000e+00 - val_loss: 2389.1414\n",
            "Epoch 8/10\n",
            "1/1 - 1s - 1s/step - accuracy: 1.0000 - loss: 6.2186e-06 - val_accuracy: 0.0000e+00 - val_loss: 2532.5481\n",
            "Epoch 9/10\n",
            "1/1 - 1s - 1s/step - accuracy: 1.0000 - loss: 9.3380e-07 - val_accuracy: 0.0000e+00 - val_loss: 2682.0771\n",
            "Epoch 10/10\n",
            "1/1 - 1s - 869ms/step - accuracy: 1.0000 - loss: 3.3574e-05 - val_accuracy: 0.0000e+00 - val_loss: 2837.9238\n"
          ]
        }
      ]
    },
    {
      "cell_type": "markdown",
      "id": "25ad1b22",
      "metadata": {
        "id": "25ad1b22"
      },
      "source": [
        "## Evaluate the Model\n",
        "Evaluate the performance of the model on the test set."
      ]
    },
    {
      "cell_type": "code",
      "execution_count": 57,
      "id": "eb9ed70f",
      "metadata": {
        "colab": {
          "base_uri": "https://localhost:8080/"
        },
        "id": "eb9ed70f",
        "outputId": "90f7ca76-625d-4a98-f34e-dbc0debb2ca2"
      },
      "outputs": [
        {
          "output_type": "stream",
          "name": "stdout",
          "text": [
            "\u001b[1m1/1\u001b[0m \u001b[32m━━━━━━━━━━━━━━━━━━━━\u001b[0m\u001b[37m\u001b[0m \u001b[1m0s\u001b[0m 69ms/step - accuracy: 0.0000e+00 - loss: 408.6044\n"
          ]
        },
        {
          "output_type": "execute_result",
          "data": {
            "text/plain": [
              "[408.6043701171875, 0.0]"
            ]
          },
          "metadata": {},
          "execution_count": 57
        }
      ],
      "source": [
        "#model evaluate\n",
        "model.evaluate(X_test,y_test)"
      ]
    },
    {
      "cell_type": "markdown",
      "id": "a37fca33",
      "metadata": {
        "id": "a37fca33"
      },
      "source": [
        "## Make Predictions\n",
        "Use the trained model to make predictions on new or unseen traffic sign images."
      ]
    },
    {
      "cell_type": "markdown",
      "id": "f1ab3608",
      "metadata": {
        "id": "f1ab3608"
      },
      "source": [
        "if you need new, we prepared some data for you [here](https://drive.google.com/file/d/1S_vpQntND9839x8kJpegaEgtSIA4JxHO/view?usp=sharing), or you can simply run the following command to get the data and unzip it.\n",
        "\n",
        "<small>Note: please note that the file contain MetaData to tell you what each image contains <b>THIS IS JUST FOR YOU TO MAKE SURE</b></smmall>"
      ]
    },
    {
      "cell_type": "code",
      "execution_count": null,
      "id": "a7a5c981",
      "metadata": {
        "id": "a7a5c981"
      },
      "outputs": [],
      "source": [
        "#https://drive.google.com/file/d/1S_vpQntND9839x8kJpegaEgtSIA4JxHO/view?usp=sharing\n",
        "!gdown --id 1S_vpQntND9839x8kJpegaEgtSIA4JxHO\n",
        "!unzip Test_Dataset.zip"
      ]
    },
    {
      "cell_type": "code",
      "execution_count": null,
      "id": "be46ba26",
      "metadata": {
        "id": "be46ba26"
      },
      "outputs": [],
      "source": []
    },
    {
      "cell_type": "markdown",
      "id": "8430600d",
      "metadata": {
        "id": "8430600d"
      },
      "source": [
        "## Model Performance Visualization\n",
        "Visualize performance metrics such as accuracy and loss over the epochs."
      ]
    },
    {
      "cell_type": "code",
      "execution_count": 61,
      "id": "50624cfe",
      "metadata": {
        "colab": {
          "base_uri": "https://localhost:8080/",
          "height": 472
        },
        "id": "50624cfe",
        "outputId": "eafefa60-2812-4212-9d6f-f2a337b7c256"
      },
      "outputs": [
        {
          "output_type": "display_data",
          "data": {
            "text/plain": [
              "<Figure size 640x480 with 1 Axes>"
            ],
            "image/png": "[encoded data removed]"
          },
          "metadata": {}
        }
      ],
      "source": [
        "#model Visualization\n",
        "#model performance visualization\n",
        "plt.plot(pred.history['accuracy'])\n",
        "plt.plot(pred.history['val_accuracy'])\n",
        "plt.title('model accuracy')\n",
        "plt.ylabel('accuracy')\n",
        "plt.xlabel('epoch')\n",
        "plt.legend(['train','test'])\n",
        "plt.show()"
      ]
    },
    {
      "cell_type": "markdown",
      "id": "8d4f3348",
      "metadata": {
        "id": "8d4f3348"
      },
      "source": [
        "## Save the Model\n",
        "Save the trained CNN model for submission."
      ]
    },
    {
      "cell_type": "code",
      "execution_count": 62,
      "id": "fe6b2df0",
      "metadata": {
        "colab": {
          "base_uri": "https://localhost:8080/"
        },
        "id": "fe6b2df0",
        "outputId": "99175992-cc92-403a-f620-656f646a2544"
      },
      "outputs": [
        {
          "output_type": "stream",
          "name": "stderr",
          "text": [
            "WARNING:absl:You are saving your model as an HDF5 file via `model.save()` or `keras.saving.save_model(model)`. This file format is considered legacy. We recommend using instead the native Keras format, e.g. `model.save('my_model.keras')` or `keras.saving.save_model(model, 'my_model.keras')`. \n"
          ]
        }
      ],
      "source": [
        "#model save\n",
        "model.save('my_model.h5')"
      ]
    },
    {
      "cell_type": "markdown",
      "id": "ed90995f",
      "metadata": {
        "id": "ed90995f"
      },
      "source": [
        "## Project Questions:\n",
        "\n",
        "1. **Data Preprocessing**: Explain why you chose your specific data preprocessing techniques (e.g., resizing images, normalization, data augmentation). How do these preprocessing steps improve the performance of your CNN model?\n",
        "easy to me and clear\n",
        "2. **Model Architecture**: Describe the architecture of your CNN model (e.g., number of convolutional layers, kernel sizes, pooling layers). Why did you choose this structure, and how do you expect each layer to contribute to feature extraction?\n",
        "is not the perfect one\n",
        "3. **Activation Functions**: Justify your choice of activation functions. How do they influence the training and output of your CNN?\n",
        "i chose it for classfication\n",
        "4. **Training Process**: Discuss your choice of batch size, number of epochs, and optimizer. How did these decisions impact the training process and the convergence of the model?\n",
        "maket worse\n",
        "5. **Loss Function and Metrics**: Explain why you chose the specific loss function and evaluation metrics for this classification task. How do they align with the goal of correctly classifying traffic signs?\n",
        "the best for classifctions\n",
        "6. **Regularization Techniques**: If you used regularization methods like dropout or batch normalization, explain why you implemented them and how they helped prevent overfitting in your model.\n",
        "7. **Model Evaluation**: Justify the method you used to evaluate your model's performance on the test set. Why did you select these evaluation techniques, and what insights did they provide about your model's accuracy and generalization ability?\n",
        "8. **Model Visualization**: Explain the significance of the performance visualizations (e.g., accuracy and loss curves). What do they tell you about your model's training process and its ability to generalize?\n",
        "9. **Overfitting and Underfitting**: Analyze whether the model encountered any overfitting or underfitting during training. What strategies could you implement to mitigate these issues?"
      ]
    },
    {
      "cell_type": "markdown",
      "id": "02e7f114",
      "metadata": {
        "id": "02e7f114"
      },
      "source": [
        "### Answer Here:"
      ]
    }
  ],
  "metadata": {
    "language_info": {
      "name": "python"
    },
    "colab": {
      "provenance": []
    },
    "kernelspec": {
      "name": "python3",
      "display_name": "Python 3"
    }
  },
  "nbformat": 4,
  "nbformat_minor": 5
}