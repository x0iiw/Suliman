{
  "cells": [
    {
      "cell_type": "markdown",
      "id": "f0946ef5",
      "metadata": {
        "id": "f0946ef5"
      },
      "source": [
        "# Clustering and Dimensionality Reduction Exam\n",
        "Welcome to the weekly project on clustering and dimensionality reduction. You will be working with a dataset of traffic accidents.\n",
        "\n",
        "## Dataset\n",
        "The dataset that will be used in this task is `Traffic_Accidents.csv`\n",
        "\n",
        "## Instructions\n",
        "- Follow the steps outlined below.\n",
        "- Write your code in the empty code cells.\n",
        "- Comment on your code to explain your reasoning.\n",
        "\n",
        "## Dataset Overview\n",
        "The dataset contains information about traffic accidents, including location, weather conditions, road conditions, and more. Below are sample of these columns:\n",
        "\n",
        "* `Location_Easting_OSGR`: Easting coordinate of the accident location.\n",
        "* `Location_Northing_OSGR`: Northing coordinate of the accident location.\n",
        "* `Longitude`: Longitude of the accident site.\n",
        "* `Latitude`: Latitude of the accident site.\n",
        "* `Police_Force`: Identifier for the police force involved.\n",
        "* `Accident_Severity`: Severity of the accident.\n",
        "* `Number_of_Vehicles`: Number of vehicles involved in the accident.\n",
        "* `Number_of_Casualties`: Number of casualties in the accident.\n",
        "* `Date`: Date of the accident.\n",
        "* `Day_of_Week`: Day of the week when the accident occurred.\n",
        "* `Speed_limit`: Speed limit in the area where the accident occurred.\n",
        "* `Weather_Conditions`: Weather conditions at the time of the accident.\n",
        "* `Road_Surface_Conditions`: Condition of the road surface during the accident.\n",
        "* `Urban_or_Rural_Area`: Whether the accident occurred in an urban or rural area.\n",
        "* `Year`: Year when the accident was recorded.\n",
        "* Additional attributes related to road type, pedestrian crossing, light conditions, etc.\n",
        "\n",
        "## Goal\n",
        "The primary goal is to analyze the accidents based on their geographical location.\n"
      ]
    },
    {
      "cell_type": "markdown",
      "id": "e2d10a84",
      "metadata": {
        "id": "e2d10a84"
      },
      "source": [
        "## Import Libraries"
      ]
    },
    {
      "cell_type": "code",
      "execution_count": 216,
      "id": "9ee4bcdb",
      "metadata": {
        "id": "9ee4bcdb"
      },
      "outputs": [],
      "source": [
        "import pandas as pd\n",
        "import numpy as np\n",
        "import matplotlib.pyplot as plt\n",
        "import seaborn as sns\n",
        "from sklearn.cluster import KMeans\n",
        "from sklearn.decomposition import PCA\n",
        "from sklearn.model_selection import train_test_split\n",
        "from sklearn.metrics import silhouette_score,accuracy_score\n",
        "import sklearn.cluster as cluster\n",
        "import sklearn.metrics as metrics"
      ]
    },
    {
      "cell_type": "markdown",
      "id": "8a257dea",
      "metadata": {
        "id": "8a257dea"
      },
      "source": [
        "## Load the Data"
      ]
    },
    {
      "cell_type": "code",
      "execution_count": 185,
      "id": "2832846e",
      "metadata": {
        "id": "2832846e"
      },
      "outputs": [],
      "source": [
        "df = pd.read_csv('/content/Traffic_Accidents.csv')"
      ]
    },
    {
      "cell_type": "markdown",
      "id": "4106d3c7",
      "metadata": {
        "id": "4106d3c7"
      },
      "source": [
        "## Exploratory Data Analysis (EDA)\n",
        "Perform EDA to understand the data better. This involves several steps to summarize the main characteristics, uncover patterns, and establish relationships:\n",
        "* Find the dataset information and observe the datatypes.\n",
        "* Check the shape of the data to understand its structure.\n",
        "* View the the data with various functions to get an initial sense of the data.\n",
        "* Perform summary statistics on the dataset to grasp central tendencies and variability.\n",
        "* Check for duplicated data.\n",
        "* Check for null values.\n",
        "\n",
        "And apply more if needed!\n"
      ]
    },
    {
      "cell_type": "code",
      "execution_count": 186,
      "id": "a49012c4",
      "metadata": {
        "colab": {
          "base_uri": "https://localhost:8080/",
          "height": 360
        },
        "id": "a49012c4",
        "outputId": "1b30e338-5e48-43d6-c835-8ae8aa453d10"
      },
      "outputs": [
        {
          "output_type": "execute_result",
          "data": {
            "text/plain": [
              "   Location_Easting_OSGR  Location_Northing_OSGR  Longitude   Latitude  \\\n",
              "0               560530.0                103950.0   0.277298  50.812789   \n",
              "1               508860.0                187170.0  -0.430574  51.572846   \n",
              "2               314460.0                169130.0  -3.231459  51.414661   \n",
              "3               341700.0                408330.0  -2.881800  53.568318   \n",
              "4               386488.0                350090.0  -2.203020  53.047882   \n",
              "\n",
              "   Police_Force  Accident_Severity  Number_of_Vehicles  Number_of_Casualties  \\\n",
              "0            47                3.0                   1                   1.0   \n",
              "1             1                3.0                   2                   1.0   \n",
              "2            62                3.0                   2                   1.0   \n",
              "3             4                3.0                   1                   2.0   \n",
              "4            21                3.0                   2                   2.0   \n",
              "\n",
              "         Date  Day_of_Week  ...  2nd_Road_Class 2nd_Road_Number  \\\n",
              "0  27/11/2009            6  ...              -1               0   \n",
              "1  10/10/2010            1  ...               6               0   \n",
              "2  14/09/2005            4  ...               3            4055   \n",
              "3  18/08/2007            7  ...               6               0   \n",
              "4  06/08/2013            3  ...              -1               0   \n",
              "\n",
              "   Pedestrian_Crossing-Human_Control  Pedestrian_Crossing-Physical_Facilities  \\\n",
              "0              None within 50 metres    No physical crossing within 50 meters   \n",
              "1              None within 50 metres    No physical crossing within 50 meters   \n",
              "2              None within 50 metres    No physical crossing within 50 meters   \n",
              "3              None within 50 metres    No physical crossing within 50 meters   \n",
              "4              None within 50 metres    No physical crossing within 50 meters   \n",
              "\n",
              "                          Light_Conditions          Weather_Conditions  \\\n",
              "0            Darkeness: No street lighting     Raining with high winds   \n",
              "1  Darkness: Street lights present and lit     Fine without high winds   \n",
              "2           Daylight: Street light present     Fine without high winds   \n",
              "3           Daylight: Street light present  Raining without high winds   \n",
              "4           Daylight: Street light present     Fine without high winds   \n",
              "\n",
              "     Road_Surface_Conditions  Urban_or_Rural_Area  \\\n",
              "0  Flood (Over 3cm of water)                  2.0   \n",
              "1                        Dry                  1.0   \n",
              "2                        Dry                  1.0   \n",
              "3                   Wet/Damp                  1.0   \n",
              "4                        Dry                  1.0   \n",
              "\n",
              "  Did_Police_Officer_Attend_Scene_of_Accident  Year  \n",
              "0                                         Yes  2009  \n",
              "1                                         Yes  2010  \n",
              "2                                         Yes  2005  \n",
              "3                                         Yes  2007  \n",
              "4                                         Yes  2013  \n",
              "\n",
              "[5 rows x 26 columns]"
            ],
            "text/html": [
              "\n",
              "  <div id=\"df-d3895981-0686-4de7-ae61-63832fc9be1d\" class=\"colab-df-container\">\n",
              "    <div>\n",
              "<style scoped>\n",
              "    .dataframe tbody tr th:only-of-type {\n",
              "        vertical-align: middle;\n",
              "    }\n",
              "\n",
              "    .dataframe tbody tr th {\n",
              "        vertical-align: top;\n",
              "    }\n",
              "\n",
              "    .dataframe thead th {\n",
              "        text-align: right;\n",
              "    }\n",
              "</style>\n",
              "<table border=\"1\" class=\"dataframe\">\n",
              "  <thead>\n",
              "    <tr style=\"text-align: right;\">\n",
              "      <th></th>\n",
              "      <th>Location_Easting_OSGR</th>\n",
              "      <th>Location_Northing_OSGR</th>\n",
              "      <th>Longitude</th>\n",
              "      <th>Latitude</th>\n",
              "      <th>Police_Force</th>\n",
              "      <th>Accident_Severity</th>\n",
              "      <th>Number_of_Vehicles</th>\n",
              "      <th>Number_of_Casualties</th>\n",
              "      <th>Date</th>\n",
              "      <th>Day_of_Week</th>\n",
              "      <th>...</th>\n",
              "      <th>2nd_Road_Class</th>\n",
              "      <th>2nd_Road_Number</th>\n",
              "      <th>Pedestrian_Crossing-Human_Control</th>\n",
              "      <th>Pedestrian_Crossing-Physical_Facilities</th>\n",
              "      <th>Light_Conditions</th>\n",
              "      <th>Weather_Conditions</th>\n",
              "      <th>Road_Surface_Conditions</th>\n",
              "      <th>Urban_or_Rural_Area</th>\n",
              "      <th>Did_Police_Officer_Attend_Scene_of_Accident</th>\n",
              "      <th>Year</th>\n",
              "    </tr>\n",
              "  </thead>\n",
              "  <tbody>\n",
              "    <tr>\n",
              "      <th>0</th>\n",
              "      <td>560530.0</td>\n",
              "      <td>103950.0</td>\n",
              "      <td>0.277298</td>\n",
              "      <td>50.812789</td>\n",
              "      <td>47</td>\n",
              "      <td>3.0</td>\n",
              "      <td>1</td>\n",
              "      <td>1.0</td>\n",
              "      <td>27/11/2009</td>\n",
              "      <td>6</td>\n",
              "      <td>...</td>\n",
              "      <td>-1</td>\n",
              "      <td>0</td>\n",
              "      <td>None within 50 metres</td>\n",
              "      <td>No physical crossing within 50 meters</td>\n",
              "      <td>Darkeness: No street lighting</td>\n",
              "      <td>Raining with high winds</td>\n",
              "      <td>Flood (Over 3cm of water)</td>\n",
              "      <td>2.0</td>\n",
              "      <td>Yes</td>\n",
              "      <td>2009</td>\n",
              "    </tr>\n",
              "    <tr>\n",
              "      <th>1</th>\n",
              "      <td>508860.0</td>\n",
              "      <td>187170.0</td>\n",
              "      <td>-0.430574</td>\n",
              "      <td>51.572846</td>\n",
              "      <td>1</td>\n",
              "      <td>3.0</td>\n",
              "      <td>2</td>\n",
              "      <td>1.0</td>\n",
              "      <td>10/10/2010</td>\n",
              "      <td>1</td>\n",
              "      <td>...</td>\n",
              "      <td>6</td>\n",
              "      <td>0</td>\n",
              "      <td>None within 50 metres</td>\n",
              "      <td>No physical crossing within 50 meters</td>\n",
              "      <td>Darkness: Street lights present and lit</td>\n",
              "      <td>Fine without high winds</td>\n",
              "      <td>Dry</td>\n",
              "      <td>1.0</td>\n",
              "      <td>Yes</td>\n",
              "      <td>2010</td>\n",
              "    </tr>\n",
              "    <tr>\n",
              "      <th>2</th>\n",
              "      <td>314460.0</td>\n",
              "      <td>169130.0</td>\n",
              "      <td>-3.231459</td>\n",
              "      <td>51.414661</td>\n",
              "      <td>62</td>\n",
              "      <td>3.0</td>\n",
              "      <td>2</td>\n",
              "      <td>1.0</td>\n",
              "      <td>14/09/2005</td>\n",
              "      <td>4</td>\n",
              "      <td>...</td>\n",
              "      <td>3</td>\n",
              "      <td>4055</td>\n",
              "      <td>None within 50 metres</td>\n",
              "      <td>No physical crossing within 50 meters</td>\n",
              "      <td>Daylight: Street light present</td>\n",
              "      <td>Fine without high winds</td>\n",
              "      <td>Dry</td>\n",
              "      <td>1.0</td>\n",
              "      <td>Yes</td>\n",
              "      <td>2005</td>\n",
              "    </tr>\n",
              "    <tr>\n",
              "      <th>3</th>\n",
              "      <td>341700.0</td>\n",
              "      <td>408330.0</td>\n",
              "      <td>-2.881800</td>\n",
              "      <td>53.568318</td>\n",
              "      <td>4</td>\n",
              "      <td>3.0</td>\n",
              "      <td>1</td>\n",
              "      <td>2.0</td>\n",
              "      <td>18/08/2007</td>\n",
              "      <td>7</td>\n",
              "      <td>...</td>\n",
              "      <td>6</td>\n",
              "      <td>0</td>\n",
              "      <td>None within 50 metres</td>\n",
              "      <td>No physical crossing within 50 meters</td>\n",
              "      <td>Daylight: Street light present</td>\n",
              "      <td>Raining without high winds</td>\n",
              "      <td>Wet/Damp</td>\n",
              "      <td>1.0</td>\n",
              "      <td>Yes</td>\n",
              "      <td>2007</td>\n",
              "    </tr>\n",
              "    <tr>\n",
              "      <th>4</th>\n",
              "      <td>386488.0</td>\n",
              "      <td>350090.0</td>\n",
              "      <td>-2.203020</td>\n",
              "      <td>53.047882</td>\n",
              "      <td>21</td>\n",
              "      <td>3.0</td>\n",
              "      <td>2</td>\n",
              "      <td>2.0</td>\n",
              "      <td>06/08/2013</td>\n",
              "      <td>3</td>\n",
              "      <td>...</td>\n",
              "      <td>-1</td>\n",
              "      <td>0</td>\n",
              "      <td>None within 50 metres</td>\n",
              "      <td>No physical crossing within 50 meters</td>\n",
              "      <td>Daylight: Street light present</td>\n",
              "      <td>Fine without high winds</td>\n",
              "      <td>Dry</td>\n",
              "      <td>1.0</td>\n",
              "      <td>Yes</td>\n",
              "      <td>2013</td>\n",
              "    </tr>\n",
              "  </tbody>\n",
              "</table>\n",
              "<p>5 rows × 26 columns</p>\n",
              "</div>\n",
              "    <div class=\"colab-df-buttons\">\n",
              "\n",
              "  <div class=\"colab-df-container\">\n",
              "    <button class=\"colab-df-convert\" onclick=\"convertToInteractive('df-d3895981-0686-4de7-ae61-63832fc9be1d')\"\n",
              "            title=\"Convert this dataframe to an interactive table.\"\n",
              "            style=\"display:none;\">\n",
              "\n",
              "  <svg xmlns=\"http://www.w3.org/2000/svg\" height=\"24px\" viewBox=\"0 -960 960 960\">\n",
              "    <path d=\"M120-120v-720h720v720H120Zm60-500h600v-160H180v160Zm220 220h160v-160H400v160Zm0 220h160v-160H400v160ZM180-400h160v-160H180v160Zm440 0h160v-160H620v160ZM180-180h160v-160H180v160Zm440 0h160v-160H620v160Z\"/>\n",
              "  </svg>\n",
              "    </button>\n",
              "\n",
              "  <style>\n",
              "    .colab-df-container {\n",
              "      display:flex;\n",
              "      gap: 12px;\n",
              "    }\n",
              "\n",
              "    .colab-df-convert {\n",
              "      background-color: #E8F0FE;\n",
              "      border: none;\n",
              "      border-radius: 50%;\n",
              "      cursor: pointer;\n",
              "      display: none;\n",
              "      fill: #1967D2;\n",
              "      height: 32px;\n",
              "      padding: 0 0 0 0;\n",
              "      width: 32px;\n",
              "    }\n",
              "\n",
              "    .colab-df-convert:hover {\n",
              "      background-color: #E2EBFA;\n",
              "      box-shadow: 0px 1px 2px rgba(60, 64, 67, 0.3), 0px 1px 3px 1px rgba(60, 64, 67, 0.15);\n",
              "      fill: #174EA6;\n",
              "    }\n",
              "\n",
              "    .colab-df-buttons div {\n",
              "      margin-bottom: 4px;\n",
              "    }\n",
              "\n",
              "    [theme=dark] .colab-df-convert {\n",
              "      background-color: #3B4455;\n",
              "      fill: #D2E3FC;\n",
              "    }\n",
              "\n",
              "    [theme=dark] .colab-df-convert:hover {\n",
              "      background-color: #434B5C;\n",
              "      box-shadow: 0px 1px 3px 1px rgba(0, 0, 0, 0.15);\n",
              "      filter: drop-shadow(0px 1px 2px rgba(0, 0, 0, 0.3));\n",
              "      fill: #FFFFFF;\n",
              "    }\n",
              "  </style>\n",
              "\n",
              "    <script>\n",
              "      const buttonEl =\n",
              "        document.querySelector('#df-d3895981-0686-4de7-ae61-63832fc9be1d button.colab-df-convert');\n",
              "      buttonEl.style.display =\n",
              "        google.colab.kernel.accessAllowed ? 'block' : 'none';\n",
              "\n",
              "      async function convertToInteractive(key) {\n",
              "        const element = document.querySelector('#df-d3895981-0686-4de7-ae61-63832fc9be1d');\n",
              "        const dataTable =\n",
              "          await google.colab.kernel.invokeFunction('convertToInteractive',\n",
              "                                                    [key], {});\n",
              "        if (!dataTable) return;\n",
              "\n",
              "        const docLinkHtml = 'Like what you see? Visit the ' +\n",
              "          '<a target=\"_blank\" href=https://colab.research.google.com/notebooks/data_table.ipynb>data table notebook</a>'\n",
              "          + ' to learn more about interactive tables.';\n",
              "        element.innerHTML = '';\n",
              "        dataTable['output_type'] = 'display_data';\n",
              "        await google.colab.output.renderOutput(dataTable, element);\n",
              "        const docLink = document.createElement('div');\n",
              "        docLink.innerHTML = docLinkHtml;\n",
              "        element.appendChild(docLink);\n",
              "      }\n",
              "    </script>\n",
              "  </div>\n",
              "\n",
              "\n",
              "<div id=\"df-124f319f-668d-43e8-a2f3-a783a09e528b\">\n",
              "  <button class=\"colab-df-quickchart\" onclick=\"quickchart('df-124f319f-668d-43e8-a2f3-a783a09e528b')\"\n",
              "            title=\"Suggest charts\"\n",
              "            style=\"display:none;\">\n",
              "\n",
              "<svg xmlns=\"http://www.w3.org/2000/svg\" height=\"24px\"viewBox=\"0 0 24 24\"\n",
              "     width=\"24px\">\n",
              "    <g>\n",
              "        <path d=\"M19 3H5c-1.1 0-2 .9-2 2v14c0 1.1.9 2 2 2h14c1.1 0 2-.9 2-2V5c0-1.1-.9-2-2-2zM9 17H7v-7h2v7zm4 0h-2V7h2v10zm4 0h-2v-4h2v4z\"/>\n",
              "    </g>\n",
              "</svg>\n",
              "  </button>\n",
              "\n",
              "<style>\n",
              "  .colab-df-quickchart {\n",
              "      --bg-color: #E8F0FE;\n",
              "      --fill-color: #1967D2;\n",
              "      --hover-bg-color: #E2EBFA;\n",
              "      --hover-fill-color: #174EA6;\n",
              "      --disabled-fill-color: #AAA;\n",
              "      --disabled-bg-color: #DDD;\n",
              "  }\n",
              "\n",
              "  [theme=dark] .colab-df-quickchart {\n",
              "      --bg-color: #3B4455;\n",
              "      --fill-color: #D2E3FC;\n",
              "      --hover-bg-color: #434B5C;\n",
              "      --hover-fill-color: #FFFFFF;\n",
              "      --disabled-bg-color: #3B4455;\n",
              "      --disabled-fill-color: #666;\n",
              "  }\n",
              "\n",
              "  .colab-df-quickchart {\n",
              "    background-color: var(--bg-color);\n",
              "    border: none;\n",
              "    border-radius: 50%;\n",
              "    cursor: pointer;\n",
              "    display: none;\n",
              "    fill: var(--fill-color);\n",
              "    height: 32px;\n",
              "    padding: 0;\n",
              "    width: 32px;\n",
              "  }\n",
              "\n",
              "  .colab-df-quickchart:hover {\n",
              "    background-color: var(--hover-bg-color);\n",
              "    box-shadow: 0 1px 2px rgba(60, 64, 67, 0.3), 0 1px 3px 1px rgba(60, 64, 67, 0.15);\n",
              "    fill: var(--button-hover-fill-color);\n",
              "  }\n",
              "\n",
              "  .colab-df-quickchart-complete:disabled,\n",
              "  .colab-df-quickchart-complete:disabled:hover {\n",
              "    background-color: var(--disabled-bg-color);\n",
              "    fill: var(--disabled-fill-color);\n",
              "    box-shadow: none;\n",
              "  }\n",
              "\n",
              "  .colab-df-spinner {\n",
              "    border: 2px solid var(--fill-color);\n",
              "    border-color: transparent;\n",
              "    border-bottom-color: var(--fill-color);\n",
              "    animation:\n",
              "      spin 1s steps(1) infinite;\n",
              "  }\n",
              "\n",
              "  @keyframes spin {\n",
              "    0% {\n",
              "      border-color: transparent;\n",
              "      border-bottom-color: var(--fill-color);\n",
              "      border-left-color: var(--fill-color);\n",
              "    }\n",
              "    20% {\n",
              "      border-color: transparent;\n",
              "      border-left-color: var(--fill-color);\n",
              "      border-top-color: var(--fill-color);\n",
              "    }\n",
              "    30% {\n",
              "      border-color: transparent;\n",
              "      border-left-color: var(--fill-color);\n",
              "      border-top-color: var(--fill-color);\n",
              "      border-right-color: var(--fill-color);\n",
              "    }\n",
              "    40% {\n",
              "      border-color: transparent;\n",
              "      border-right-color: var(--fill-color);\n",
              "      border-top-color: var(--fill-color);\n",
              "    }\n",
              "    60% {\n",
              "      border-color: transparent;\n",
              "      border-right-color: var(--fill-color);\n",
              "    }\n",
              "    80% {\n",
              "      border-color: transparent;\n",
              "      border-right-color: var(--fill-color);\n",
              "      border-bottom-color: var(--fill-color);\n",
              "    }\n",
              "    90% {\n",
              "      border-color: transparent;\n",
              "      border-bottom-color: var(--fill-color);\n",
              "    }\n",
              "  }\n",
              "</style>\n",
              "\n",
              "  <script>\n",
              "    async function quickchart(key) {\n",
              "      const quickchartButtonEl =\n",
              "        document.querySelector('#' + key + ' button');\n",
              "      quickchartButtonEl.disabled = true;  // To prevent multiple clicks.\n",
              "      quickchartButtonEl.classList.add('colab-df-spinner');\n",
              "      try {\n",
              "        const charts = await google.colab.kernel.invokeFunction(\n",
              "            'suggestCharts', [key], {});\n",
              "      } catch (error) {\n",
              "        console.error('Error during call to suggestCharts:', error);\n",
              "      }\n",
              "      quickchartButtonEl.classList.remove('colab-df-spinner');\n",
              "      quickchartButtonEl.classList.add('colab-df-quickchart-complete');\n",
              "    }\n",
              "    (() => {\n",
              "      let quickchartButtonEl =\n",
              "        document.querySelector('#df-124f319f-668d-43e8-a2f3-a783a09e528b button');\n",
              "      quickchartButtonEl.style.display =\n",
              "        google.colab.kernel.accessAllowed ? 'block' : 'none';\n",
              "    })();\n",
              "  </script>\n",
              "</div>\n",
              "\n",
              "    </div>\n",
              "  </div>\n"
            ],
            "application/vnd.google.colaboratory.intrinsic+json": {
              "type": "dataframe",
              "variable_name": "df"
            }
          },
          "metadata": {},
          "execution_count": 186
        }
      ],
      "source": [
        "df.head()"
      ]
    },
    {
      "cell_type": "code",
      "source": [
        "df.info()"
      ],
      "metadata": {
        "colab": {
          "base_uri": "https://localhost:8080/"
        },
        "id": "rwYdxoOW4Mk6",
        "outputId": "f59fb0f4-169c-4da4-ecce-927a9d2f8b83"
      },
      "id": "rwYdxoOW4Mk6",
      "execution_count": 187,
      "outputs": [
        {
          "output_type": "stream",
          "name": "stdout",
          "text": [
            "<class 'pandas.core.frame.DataFrame'>\n",
            "RangeIndex: 52000 entries, 0 to 51999\n",
            "Data columns (total 26 columns):\n",
            " #   Column                                       Non-Null Count  Dtype  \n",
            "---  ------                                       --------------  -----  \n",
            " 0   Location_Easting_OSGR                        52000 non-null  float64\n",
            " 1   Location_Northing_OSGR                       52000 non-null  float64\n",
            " 2   Longitude                                    52000 non-null  float64\n",
            " 3   Latitude                                     52000 non-null  float64\n",
            " 4   Police_Force                                 52000 non-null  int64  \n",
            " 5   Accident_Severity                            51678 non-null  float64\n",
            " 6   Number_of_Vehicles                           52000 non-null  int64  \n",
            " 7   Number_of_Casualties                         50959 non-null  float64\n",
            " 8   Date                                         52000 non-null  object \n",
            " 9   Day_of_Week                                  52000 non-null  int64  \n",
            " 10  Local_Authority_(District)                   52000 non-null  int64  \n",
            " 11  Local_Authority_(Highway)                    52000 non-null  object \n",
            " 12  1st_Road_Class                               52000 non-null  int64  \n",
            " 13  1st_Road_Number                              52000 non-null  int64  \n",
            " 14  Road_Type                                    52000 non-null  object \n",
            " 15  Speed_limit                                  52000 non-null  int64  \n",
            " 16  2nd_Road_Class                               52000 non-null  int64  \n",
            " 17  2nd_Road_Number                              52000 non-null  int64  \n",
            " 18  Pedestrian_Crossing-Human_Control            52000 non-null  object \n",
            " 19  Pedestrian_Crossing-Physical_Facilities      52000 non-null  object \n",
            " 20  Light_Conditions                             51456 non-null  object \n",
            " 21  Weather_Conditions                           52000 non-null  object \n",
            " 22  Road_Surface_Conditions                      52000 non-null  object \n",
            " 23  Urban_or_Rural_Area                          51912 non-null  float64\n",
            " 24  Did_Police_Officer_Attend_Scene_of_Accident  52000 non-null  object \n",
            " 25  Year                                         52000 non-null  int64  \n",
            "dtypes: float64(7), int64(10), object(9)\n",
            "memory usage: 10.3+ MB\n"
          ]
        }
      ]
    },
    {
      "cell_type": "code",
      "source": [
        "df.shape"
      ],
      "metadata": {
        "colab": {
          "base_uri": "https://localhost:8080/"
        },
        "id": "GtvYjph345G5",
        "outputId": "07472eb5-ef18-4f01-eae4-4b328c881e1c"
      },
      "id": "GtvYjph345G5",
      "execution_count": 188,
      "outputs": [
        {
          "output_type": "execute_result",
          "data": {
            "text/plain": [
              "(52000, 26)"
            ]
          },
          "metadata": {},
          "execution_count": 188
        }
      ]
    },
    {
      "cell_type": "markdown",
      "source": [
        "# As we see above  our data is have 26 columns of datatype object,float64 and int64 and 21593 Rows"
      ],
      "metadata": {
        "id": "nXoESy5u4h4a"
      },
      "id": "nXoESy5u4h4a"
    },
    {
      "cell_type": "code",
      "source": [
        "df.describe().T"
      ],
      "metadata": {
        "colab": {
          "base_uri": "https://localhost:8080/",
          "height": 602
        },
        "id": "twAvq32l5K6A",
        "outputId": "fef0db3b-00ca-4f91-d80c-ea4ae87b84ed"
      },
      "id": "twAvq32l5K6A",
      "execution_count": 189,
      "outputs": [
        {
          "output_type": "execute_result",
          "data": {
            "text/plain": [
              "                              count           mean            std  \\\n",
              "Location_Easting_OSGR       52000.0  440284.256846   95109.751221   \n",
              "Location_Northing_OSGR      52000.0  299861.656788  161362.379650   \n",
              "Longitude                   52000.0      -1.427193       1.398249   \n",
              "Latitude                    52000.0      52.586684       1.453049   \n",
              "Police_Force                52000.0      30.401712      25.545581   \n",
              "Accident_Severity           51678.0       2.837145       0.402582   \n",
              "Number_of_Vehicles          52000.0       1.834327       0.727856   \n",
              "Number_of_Casualties        50959.0       1.354756       0.855220   \n",
              "Day_of_Week                 52000.0       4.130712       1.926217   \n",
              "Local_Authority_(District)  52000.0     349.542558     259.504721   \n",
              "1st_Road_Class              52000.0       4.080519       1.428056   \n",
              "1st_Road_Number             52000.0     997.078077    1806.405065   \n",
              "Speed_limit                 52000.0      39.148558      14.212826   \n",
              "2nd_Road_Class              52000.0       2.672673       3.205080   \n",
              "2nd_Road_Number             52000.0     384.503058    1304.989395   \n",
              "Urban_or_Rural_Area         51912.0       1.359397       0.479868   \n",
              "Year                        52000.0    2009.401788       3.006997   \n",
              "\n",
              "                                     min            25%            50%  \\\n",
              "Location_Easting_OSGR       98480.000000  375540.000000  440950.000000   \n",
              "Location_Northing_OSGR      19030.000000  178010.000000  267180.000000   \n",
              "Longitude                      -6.895268      -2.366190      -1.391202   \n",
              "Latitude                       50.026153      51.487676      52.295042   \n",
              "Police_Force                    1.000000       7.000000      30.000000   \n",
              "Accident_Severity               1.000000       3.000000       3.000000   \n",
              "Number_of_Vehicles              1.000000       1.000000       2.000000   \n",
              "Number_of_Casualties            1.000000       1.000000       1.000000   \n",
              "Day_of_Week                     1.000000       2.000000       4.000000   \n",
              "Local_Authority_(District)      1.000000     112.000000     323.000000   \n",
              "1st_Road_Class                  1.000000       3.000000       4.000000   \n",
              "1st_Road_Number                 0.000000       0.000000     128.500000   \n",
              "Speed_limit                    15.000000      30.000000      30.000000   \n",
              "2nd_Road_Class                 -1.000000      -1.000000       3.000000   \n",
              "2nd_Road_Number                -1.000000       0.000000       0.000000   \n",
              "Urban_or_Rural_Area             1.000000       1.000000       1.000000   \n",
              "Year                         2005.000000    2006.000000    2010.000000   \n",
              "\n",
              "                                      75%           max  \n",
              "Location_Easting_OSGR       523500.000000  6.549600e+05  \n",
              "Location_Northing_OSGR      398149.250000  1.203900e+06  \n",
              "Longitude                       -0.214666  1.753632e+00  \n",
              "Latitude                        53.478016  6.071477e+01  \n",
              "Police_Force                    46.000000  9.800000e+01  \n",
              "Accident_Severity                3.000000  3.000000e+00  \n",
              "Number_of_Vehicles               2.000000  3.400000e+01  \n",
              "Number_of_Casualties             1.000000  5.100000e+01  \n",
              "Day_of_Week                      6.000000  7.000000e+00  \n",
              "Local_Authority_(District)     530.000000  9.410000e+02  \n",
              "1st_Road_Class                   6.000000  6.000000e+00  \n",
              "1st_Road_Number                716.000000  9.999000e+03  \n",
              "Speed_limit                     50.000000  7.000000e+01  \n",
              "2nd_Road_Class                   6.000000  6.000000e+00  \n",
              "2nd_Road_Number                  0.000000  9.999000e+03  \n",
              "Urban_or_Rural_Area              2.000000  3.000000e+00  \n",
              "Year                          2012.000000  2.014000e+03  "
            ],
            "text/html": [
              "\n",
              "  <div id=\"df-35d208c0-639f-4da0-a9c7-6f049712eca7\" class=\"colab-df-container\">\n",
              "    <div>\n",
              "<style scoped>\n",
              "    .dataframe tbody tr th:only-of-type {\n",
              "        vertical-align: middle;\n",
              "    }\n",
              "\n",
              "    .dataframe tbody tr th {\n",
              "        vertical-align: top;\n",
              "    }\n",
              "\n",
              "    .dataframe thead th {\n",
              "        text-align: right;\n",
              "    }\n",
              "</style>\n",
              "<table border=\"1\" class=\"dataframe\">\n",
              "  <thead>\n",
              "    <tr style=\"text-align: right;\">\n",
              "      <th></th>\n",
              "      <th>count</th>\n",
              "      <th>mean</th>\n",
              "      <th>std</th>\n",
              "      <th>min</th>\n",
              "      <th>25%</th>\n",
              "      <th>50%</th>\n",
              "      <th>75%</th>\n",
              "      <th>max</th>\n",
              "    </tr>\n",
              "  </thead>\n",
              "  <tbody>\n",
              "    <tr>\n",
              "      <th>Location_Easting_OSGR</th>\n",
              "      <td>52000.0</td>\n",
              "      <td>440284.256846</td>\n",
              "      <td>95109.751221</td>\n",
              "      <td>98480.000000</td>\n",
              "      <td>375540.000000</td>\n",
              "      <td>440950.000000</td>\n",
              "      <td>523500.000000</td>\n",
              "      <td>6.549600e+05</td>\n",
              "    </tr>\n",
              "    <tr>\n",
              "      <th>Location_Northing_OSGR</th>\n",
              "      <td>52000.0</td>\n",
              "      <td>299861.656788</td>\n",
              "      <td>161362.379650</td>\n",
              "      <td>19030.000000</td>\n",
              "      <td>178010.000000</td>\n",
              "      <td>267180.000000</td>\n",
              "      <td>398149.250000</td>\n",
              "      <td>1.203900e+06</td>\n",
              "    </tr>\n",
              "    <tr>\n",
              "      <th>Longitude</th>\n",
              "      <td>52000.0</td>\n",
              "      <td>-1.427193</td>\n",
              "      <td>1.398249</td>\n",
              "      <td>-6.895268</td>\n",
              "      <td>-2.366190</td>\n",
              "      <td>-1.391202</td>\n",
              "      <td>-0.214666</td>\n",
              "      <td>1.753632e+00</td>\n",
              "    </tr>\n",
              "    <tr>\n",
              "      <th>Latitude</th>\n",
              "      <td>52000.0</td>\n",
              "      <td>52.586684</td>\n",
              "      <td>1.453049</td>\n",
              "      <td>50.026153</td>\n",
              "      <td>51.487676</td>\n",
              "      <td>52.295042</td>\n",
              "      <td>53.478016</td>\n",
              "      <td>6.071477e+01</td>\n",
              "    </tr>\n",
              "    <tr>\n",
              "      <th>Police_Force</th>\n",
              "      <td>52000.0</td>\n",
              "      <td>30.401712</td>\n",
              "      <td>25.545581</td>\n",
              "      <td>1.000000</td>\n",
              "      <td>7.000000</td>\n",
              "      <td>30.000000</td>\n",
              "      <td>46.000000</td>\n",
              "      <td>9.800000e+01</td>\n",
              "    </tr>\n",
              "    <tr>\n",
              "      <th>Accident_Severity</th>\n",
              "      <td>51678.0</td>\n",
              "      <td>2.837145</td>\n",
              "      <td>0.402582</td>\n",
              "      <td>1.000000</td>\n",
              "      <td>3.000000</td>\n",
              "      <td>3.000000</td>\n",
              "      <td>3.000000</td>\n",
              "      <td>3.000000e+00</td>\n",
              "    </tr>\n",
              "    <tr>\n",
              "      <th>Number_of_Vehicles</th>\n",
              "      <td>52000.0</td>\n",
              "      <td>1.834327</td>\n",
              "      <td>0.727856</td>\n",
              "      <td>1.000000</td>\n",
              "      <td>1.000000</td>\n",
              "      <td>2.000000</td>\n",
              "      <td>2.000000</td>\n",
              "      <td>3.400000e+01</td>\n",
              "    </tr>\n",
              "    <tr>\n",
              "      <th>Number_of_Casualties</th>\n",
              "      <td>50959.0</td>\n",
              "      <td>1.354756</td>\n",
              "      <td>0.855220</td>\n",
              "      <td>1.000000</td>\n",
              "      <td>1.000000</td>\n",
              "      <td>1.000000</td>\n",
              "      <td>1.000000</td>\n",
              "      <td>5.100000e+01</td>\n",
              "    </tr>\n",
              "    <tr>\n",
              "      <th>Day_of_Week</th>\n",
              "      <td>52000.0</td>\n",
              "      <td>4.130712</td>\n",
              "      <td>1.926217</td>\n",
              "      <td>1.000000</td>\n",
              "      <td>2.000000</td>\n",
              "      <td>4.000000</td>\n",
              "      <td>6.000000</td>\n",
              "      <td>7.000000e+00</td>\n",
              "    </tr>\n",
              "    <tr>\n",
              "      <th>Local_Authority_(District)</th>\n",
              "      <td>52000.0</td>\n",
              "      <td>349.542558</td>\n",
              "      <td>259.504721</td>\n",
              "      <td>1.000000</td>\n",
              "      <td>112.000000</td>\n",
              "      <td>323.000000</td>\n",
              "      <td>530.000000</td>\n",
              "      <td>9.410000e+02</td>\n",
              "    </tr>\n",
              "    <tr>\n",
              "      <th>1st_Road_Class</th>\n",
              "      <td>52000.0</td>\n",
              "      <td>4.080519</td>\n",
              "      <td>1.428056</td>\n",
              "      <td>1.000000</td>\n",
              "      <td>3.000000</td>\n",
              "      <td>4.000000</td>\n",
              "      <td>6.000000</td>\n",
              "      <td>6.000000e+00</td>\n",
              "    </tr>\n",
              "    <tr>\n",
              "      <th>1st_Road_Number</th>\n",
              "      <td>52000.0</td>\n",
              "      <td>997.078077</td>\n",
              "      <td>1806.405065</td>\n",
              "      <td>0.000000</td>\n",
              "      <td>0.000000</td>\n",
              "      <td>128.500000</td>\n",
              "      <td>716.000000</td>\n",
              "      <td>9.999000e+03</td>\n",
              "    </tr>\n",
              "    <tr>\n",
              "      <th>Speed_limit</th>\n",
              "      <td>52000.0</td>\n",
              "      <td>39.148558</td>\n",
              "      <td>14.212826</td>\n",
              "      <td>15.000000</td>\n",
              "      <td>30.000000</td>\n",
              "      <td>30.000000</td>\n",
              "      <td>50.000000</td>\n",
              "      <td>7.000000e+01</td>\n",
              "    </tr>\n",
              "    <tr>\n",
              "      <th>2nd_Road_Class</th>\n",
              "      <td>52000.0</td>\n",
              "      <td>2.672673</td>\n",
              "      <td>3.205080</td>\n",
              "      <td>-1.000000</td>\n",
              "      <td>-1.000000</td>\n",
              "      <td>3.000000</td>\n",
              "      <td>6.000000</td>\n",
              "      <td>6.000000e+00</td>\n",
              "    </tr>\n",
              "    <tr>\n",
              "      <th>2nd_Road_Number</th>\n",
              "      <td>52000.0</td>\n",
              "      <td>384.503058</td>\n",
              "      <td>1304.989395</td>\n",
              "      <td>-1.000000</td>\n",
              "      <td>0.000000</td>\n",
              "      <td>0.000000</td>\n",
              "      <td>0.000000</td>\n",
              "      <td>9.999000e+03</td>\n",
              "    </tr>\n",
              "    <tr>\n",
              "      <th>Urban_or_Rural_Area</th>\n",
              "      <td>51912.0</td>\n",
              "      <td>1.359397</td>\n",
              "      <td>0.479868</td>\n",
              "      <td>1.000000</td>\n",
              "      <td>1.000000</td>\n",
              "      <td>1.000000</td>\n",
              "      <td>2.000000</td>\n",
              "      <td>3.000000e+00</td>\n",
              "    </tr>\n",
              "    <tr>\n",
              "      <th>Year</th>\n",
              "      <td>52000.0</td>\n",
              "      <td>2009.401788</td>\n",
              "      <td>3.006997</td>\n",
              "      <td>2005.000000</td>\n",
              "      <td>2006.000000</td>\n",
              "      <td>2010.000000</td>\n",
              "      <td>2012.000000</td>\n",
              "      <td>2.014000e+03</td>\n",
              "    </tr>\n",
              "  </tbody>\n",
              "</table>\n",
              "</div>\n",
              "    <div class=\"colab-df-buttons\">\n",
              "\n",
              "  <div class=\"colab-df-container\">\n",
              "    <button class=\"colab-df-convert\" onclick=\"convertToInteractive('df-35d208c0-639f-4da0-a9c7-6f049712eca7')\"\n",
              "            title=\"Convert this dataframe to an interactive table.\"\n",
              "            style=\"display:none;\">\n",
              "\n",
              "  <svg xmlns=\"http://www.w3.org/2000/svg\" height=\"24px\" viewBox=\"0 -960 960 960\">\n",
              "    <path d=\"M120-120v-720h720v720H120Zm60-500h600v-160H180v160Zm220 220h160v-160H400v160Zm0 220h160v-160H400v160ZM180-400h160v-160H180v160Zm440 0h160v-160H620v160ZM180-180h160v-160H180v160Zm440 0h160v-160H620v160Z\"/>\n",
              "  </svg>\n",
              "    </button>\n",
              "\n",
              "  <style>\n",
              "    .colab-df-container {\n",
              "      display:flex;\n",
              "      gap: 12px;\n",
              "    }\n",
              "\n",
              "    .colab-df-convert {\n",
              "      background-color: #E8F0FE;\n",
              "      border: none;\n",
              "      border-radius: 50%;\n",
              "      cursor: pointer;\n",
              "      display: none;\n",
              "      fill: #1967D2;\n",
              "      height: 32px;\n",
              "      padding: 0 0 0 0;\n",
              "      width: 32px;\n",
              "    }\n",
              "\n",
              "    .colab-df-convert:hover {\n",
              "      background-color: #E2EBFA;\n",
              "      box-shadow: 0px 1px 2px rgba(60, 64, 67, 0.3), 0px 1px 3px 1px rgba(60, 64, 67, 0.15);\n",
              "      fill: #174EA6;\n",
              "    }\n",
              "\n",
              "    .colab-df-buttons div {\n",
              "      margin-bottom: 4px;\n",
              "    }\n",
              "\n",
              "    [theme=dark] .colab-df-convert {\n",
              "      background-color: #3B4455;\n",
              "      fill: #D2E3FC;\n",
              "    }\n",
              "\n",
              "    [theme=dark] .colab-df-convert:hover {\n",
              "      background-color: #434B5C;\n",
              "      box-shadow: 0px 1px 3px 1px rgba(0, 0, 0, 0.15);\n",
              "      filter: drop-shadow(0px 1px 2px rgba(0, 0, 0, 0.3));\n",
              "      fill: #FFFFFF;\n",
              "    }\n",
              "  </style>\n",
              "\n",
              "    <script>\n",
              "      const buttonEl =\n",
              "        document.querySelector('#df-35d208c0-639f-4da0-a9c7-6f049712eca7 button.colab-df-convert');\n",
              "      buttonEl.style.display =\n",
              "        google.colab.kernel.accessAllowed ? 'block' : 'none';\n",
              "\n",
              "      async function convertToInteractive(key) {\n",
              "        const element = document.querySelector('#df-35d208c0-639f-4da0-a9c7-6f049712eca7');\n",
              "        const dataTable =\n",
              "          await google.colab.kernel.invokeFunction('convertToInteractive',\n",
              "                                                    [key], {});\n",
              "        if (!dataTable) return;\n",
              "\n",
              "        const docLinkHtml = 'Like what you see? Visit the ' +\n",
              "          '<a target=\"_blank\" href=https://colab.research.google.com/notebooks/data_table.ipynb>data table notebook</a>'\n",
              "          + ' to learn more about interactive tables.';\n",
              "        element.innerHTML = '';\n",
              "        dataTable['output_type'] = 'display_data';\n",
              "        await google.colab.output.renderOutput(dataTable, element);\n",
              "        const docLink = document.createElement('div');\n",
              "        docLink.innerHTML = docLinkHtml;\n",
              "        element.appendChild(docLink);\n",
              "      }\n",
              "    </script>\n",
              "  </div>\n",
              "\n",
              "\n",
              "<div id=\"df-60e7abf5-49ce-4e15-b3fa-b48e4ebc8909\">\n",
              "  <button class=\"colab-df-quickchart\" onclick=\"quickchart('df-60e7abf5-49ce-4e15-b3fa-b48e4ebc8909')\"\n",
              "            title=\"Suggest charts\"\n",
              "            style=\"display:none;\">\n",
              "\n",
              "<svg xmlns=\"http://www.w3.org/2000/svg\" height=\"24px\"viewBox=\"0 0 24 24\"\n",
              "     width=\"24px\">\n",
              "    <g>\n",
              "        <path d=\"M19 3H5c-1.1 0-2 .9-2 2v14c0 1.1.9 2 2 2h14c1.1 0 2-.9 2-2V5c0-1.1-.9-2-2-2zM9 17H7v-7h2v7zm4 0h-2V7h2v10zm4 0h-2v-4h2v4z\"/>\n",
              "    </g>\n",
              "</svg>\n",
              "  </button>\n",
              "\n",
              "<style>\n",
              "  .colab-df-quickchart {\n",
              "      --bg-color: #E8F0FE;\n",
              "      --fill-color: #1967D2;\n",
              "      --hover-bg-color: #E2EBFA;\n",
              "      --hover-fill-color: #174EA6;\n",
              "      --disabled-fill-color: #AAA;\n",
              "      --disabled-bg-color: #DDD;\n",
              "  }\n",
              "\n",
              "  [theme=dark] .colab-df-quickchart {\n",
              "      --bg-color: #3B4455;\n",
              "      --fill-color: #D2E3FC;\n",
              "      --hover-bg-color: #434B5C;\n",
              "      --hover-fill-color: #FFFFFF;\n",
              "      --disabled-bg-color: #3B4455;\n",
              "      --disabled-fill-color: #666;\n",
              "  }\n",
              "\n",
              "  .colab-df-quickchart {\n",
              "    background-color: var(--bg-color);\n",
              "    border: none;\n",
              "    border-radius: 50%;\n",
              "    cursor: pointer;\n",
              "    display: none;\n",
              "    fill: var(--fill-color);\n",
              "    height: 32px;\n",
              "    padding: 0;\n",
              "    width: 32px;\n",
              "  }\n",
              "\n",
              "  .colab-df-quickchart:hover {\n",
              "    background-color: var(--hover-bg-color);\n",
              "    box-shadow: 0 1px 2px rgba(60, 64, 67, 0.3), 0 1px 3px 1px rgba(60, 64, 67, 0.15);\n",
              "    fill: var(--button-hover-fill-color);\n",
              "  }\n",
              "\n",
              "  .colab-df-quickchart-complete:disabled,\n",
              "  .colab-df-quickchart-complete:disabled:hover {\n",
              "    background-color: var(--disabled-bg-color);\n",
              "    fill: var(--disabled-fill-color);\n",
              "    box-shadow: none;\n",
              "  }\n",
              "\n",
              "  .colab-df-spinner {\n",
              "    border: 2px solid var(--fill-color);\n",
              "    border-color: transparent;\n",
              "    border-bottom-color: var(--fill-color);\n",
              "    animation:\n",
              "      spin 1s steps(1) infinite;\n",
              "  }\n",
              "\n",
              "  @keyframes spin {\n",
              "    0% {\n",
              "      border-color: transparent;\n",
              "      border-bottom-color: var(--fill-color);\n",
              "      border-left-color: var(--fill-color);\n",
              "    }\n",
              "    20% {\n",
              "      border-color: transparent;\n",
              "      border-left-color: var(--fill-color);\n",
              "      border-top-color: var(--fill-color);\n",
              "    }\n",
              "    30% {\n",
              "      border-color: transparent;\n",
              "      border-left-color: var(--fill-color);\n",
              "      border-top-color: var(--fill-color);\n",
              "      border-right-color: var(--fill-color);\n",
              "    }\n",
              "    40% {\n",
              "      border-color: transparent;\n",
              "      border-right-color: var(--fill-color);\n",
              "      border-top-color: var(--fill-color);\n",
              "    }\n",
              "    60% {\n",
              "      border-color: transparent;\n",
              "      border-right-color: var(--fill-color);\n",
              "    }\n",
              "    80% {\n",
              "      border-color: transparent;\n",
              "      border-right-color: var(--fill-color);\n",
              "      border-bottom-color: var(--fill-color);\n",
              "    }\n",
              "    90% {\n",
              "      border-color: transparent;\n",
              "      border-bottom-color: var(--fill-color);\n",
              "    }\n",
              "  }\n",
              "</style>\n",
              "\n",
              "  <script>\n",
              "    async function quickchart(key) {\n",
              "      const quickchartButtonEl =\n",
              "        document.querySelector('#' + key + ' button');\n",
              "      quickchartButtonEl.disabled = true;  // To prevent multiple clicks.\n",
              "      quickchartButtonEl.classList.add('colab-df-spinner');\n",
              "      try {\n",
              "        const charts = await google.colab.kernel.invokeFunction(\n",
              "            'suggestCharts', [key], {});\n",
              "      } catch (error) {\n",
              "        console.error('Error during call to suggestCharts:', error);\n",
              "      }\n",
              "      quickchartButtonEl.classList.remove('colab-df-spinner');\n",
              "      quickchartButtonEl.classList.add('colab-df-quickchart-complete');\n",
              "    }\n",
              "    (() => {\n",
              "      let quickchartButtonEl =\n",
              "        document.querySelector('#df-60e7abf5-49ce-4e15-b3fa-b48e4ebc8909 button');\n",
              "      quickchartButtonEl.style.display =\n",
              "        google.colab.kernel.accessAllowed ? 'block' : 'none';\n",
              "    })();\n",
              "  </script>\n",
              "</div>\n",
              "\n",
              "    </div>\n",
              "  </div>\n"
            ],
            "application/vnd.google.colaboratory.intrinsic+json": {
              "type": "dataframe",
              "summary": "{\n  \"name\": \"df\",\n  \"rows\": 17,\n  \"fields\": [\n    {\n      \"column\": \"count\",\n      \"properties\": {\n        \"dtype\": \"number\",\n        \"std\": 258.7544543521112,\n        \"min\": 50959.0,\n        \"max\": 52000.0,\n        \"num_unique_values\": 4,\n        \"samples\": [\n          51678.0,\n          51912.0,\n          52000.0\n        ],\n        \"semantic_type\": \"\",\n        \"description\": \"\"\n      }\n    },\n    {\n      \"column\": \"mean\",\n      \"properties\": {\n        \"dtype\": \"number\",\n        \"std\": 125301.98051336508,\n        \"min\": -1.4271929981346154,\n        \"max\": 440284.2568461538,\n        \"num_unique_values\": 17,\n        \"samples\": [\n          440284.2568461538,\n          299861.65678846155,\n          2.837145400363791\n        ],\n        \"semantic_type\": \"\",\n        \"description\": \"\"\n      }\n    },\n    {\n      \"column\": \"std\",\n      \"properties\": {\n        \"dtype\": \"number\",\n        \"std\": 44098.877188146216,\n        \"min\": 0.4025821721275909,\n        \"max\": 161362.37964961195,\n        \"num_unique_values\": 17,\n        \"samples\": [\n          95109.75122061463,\n          161362.37964961195,\n          0.4025821721275909\n        ],\n        \"semantic_type\": \"\",\n        \"description\": \"\"\n      }\n    },\n    {\n      \"column\": \"min\",\n      \"properties\": {\n        \"dtype\": \"number\",\n        \"std\": 24009.563913151484,\n        \"min\": -6.895268,\n        \"max\": 98480.0,\n        \"num_unique_values\": 9,\n        \"samples\": [\n          -1.0,\n          19030.0,\n          0.0\n        ],\n        \"semantic_type\": \"\",\n        \"description\": \"\"\n      }\n    },\n    {\n      \"column\": \"25%\",\n      \"properties\": {\n        \"dtype\": \"number\",\n        \"std\": 98283.0247551381,\n        \"min\": -2.36618975,\n        \"max\": 375540.0,\n        \"num_unique_values\": 13,\n        \"samples\": [\n          -1.0,\n          0.0,\n          375540.0\n        ],\n        \"semantic_type\": \"\",\n        \"description\": \"\"\n      }\n    },\n    {\n      \"column\": \"50%\",\n      \"properties\": {\n        \"dtype\": \"number\",\n        \"std\": 121478.6693776327,\n        \"min\": -1.391202,\n        \"max\": 440950.0,\n        \"num_unique_values\": 13,\n        \"samples\": [\n          0.0,\n          323.0,\n          440950.0\n        ],\n        \"semantic_type\": \"\",\n        \"description\": \"\"\n      }\n    },\n    {\n      \"column\": \"75%\",\n      \"properties\": {\n        \"dtype\": \"number\",\n        \"std\": 154563.91526447178,\n        \"min\": -0.21466625,\n        \"max\": 523500.0,\n        \"num_unique_values\": 14,\n        \"samples\": [\n          530.0,\n          50.0,\n          523500.0\n        ],\n        \"semantic_type\": \"\",\n        \"description\": \"\"\n      }\n    },\n    {\n      \"column\": \"max\",\n      \"properties\": {\n        \"dtype\": \"number\",\n        \"std\": 323087.67034700507,\n        \"min\": 1.753632,\n        \"max\": 1203900.0,\n        \"num_unique_values\": 14,\n        \"samples\": [\n          941.0,\n          9999.0,\n          654960.0\n        ],\n        \"semantic_type\": \"\",\n        \"description\": \"\"\n      }\n    }\n  ]\n}"
            }
          },
          "metadata": {},
          "execution_count": 189
        }
      ]
    },
    {
      "cell_type": "code",
      "source": [
        "df.isnull().sum()"
      ],
      "metadata": {
        "colab": {
          "base_uri": "https://localhost:8080/",
          "height": 899
        },
        "id": "58anPIy05SxH",
        "outputId": "d135f46c-4e19-4e93-a7dd-17e777ee7654"
      },
      "id": "58anPIy05SxH",
      "execution_count": 190,
      "outputs": [
        {
          "output_type": "execute_result",
          "data": {
            "text/plain": [
              "Location_Easting_OSGR                             0\n",
              "Location_Northing_OSGR                            0\n",
              "Longitude                                         0\n",
              "Latitude                                          0\n",
              "Police_Force                                      0\n",
              "Accident_Severity                               322\n",
              "Number_of_Vehicles                                0\n",
              "Number_of_Casualties                           1041\n",
              "Date                                              0\n",
              "Day_of_Week                                       0\n",
              "Local_Authority_(District)                        0\n",
              "Local_Authority_(Highway)                         0\n",
              "1st_Road_Class                                    0\n",
              "1st_Road_Number                                   0\n",
              "Road_Type                                         0\n",
              "Speed_limit                                       0\n",
              "2nd_Road_Class                                    0\n",
              "2nd_Road_Number                                   0\n",
              "Pedestrian_Crossing-Human_Control                 0\n",
              "Pedestrian_Crossing-Physical_Facilities           0\n",
              "Light_Conditions                                544\n",
              "Weather_Conditions                                0\n",
              "Road_Surface_Conditions                           0\n",
              "Urban_or_Rural_Area                              88\n",
              "Did_Police_Officer_Attend_Scene_of_Accident       0\n",
              "Year                                              0\n",
              "dtype: int64"
            ],
            "text/html": [
              "<div>\n",
              "<style scoped>\n",
              "    .dataframe tbody tr th:only-of-type {\n",
              "        vertical-align: middle;\n",
              "    }\n",
              "\n",
              "    .dataframe tbody tr th {\n",
              "        vertical-align: top;\n",
              "    }\n",
              "\n",
              "    .dataframe thead th {\n",
              "        text-align: right;\n",
              "    }\n",
              "</style>\n",
              "<table border=\"1\" class=\"dataframe\">\n",
              "  <thead>\n",
              "    <tr style=\"text-align: right;\">\n",
              "      <th></th>\n",
              "      <th>0</th>\n",
              "    </tr>\n",
              "  </thead>\n",
              "  <tbody>\n",
              "    <tr>\n",
              "      <th>Location_Easting_OSGR</th>\n",
              "      <td>0</td>\n",
              "    </tr>\n",
              "    <tr>\n",
              "      <th>Location_Northing_OSGR</th>\n",
              "      <td>0</td>\n",
              "    </tr>\n",
              "    <tr>\n",
              "      <th>Longitude</th>\n",
              "      <td>0</td>\n",
              "    </tr>\n",
              "    <tr>\n",
              "      <th>Latitude</th>\n",
              "      <td>0</td>\n",
              "    </tr>\n",
              "    <tr>\n",
              "      <th>Police_Force</th>\n",
              "      <td>0</td>\n",
              "    </tr>\n",
              "    <tr>\n",
              "      <th>Accident_Severity</th>\n",
              "      <td>322</td>\n",
              "    </tr>\n",
              "    <tr>\n",
              "      <th>Number_of_Vehicles</th>\n",
              "      <td>0</td>\n",
              "    </tr>\n",
              "    <tr>\n",
              "      <th>Number_of_Casualties</th>\n",
              "      <td>1041</td>\n",
              "    </tr>\n",
              "    <tr>\n",
              "      <th>Date</th>\n",
              "      <td>0</td>\n",
              "    </tr>\n",
              "    <tr>\n",
              "      <th>Day_of_Week</th>\n",
              "      <td>0</td>\n",
              "    </tr>\n",
              "    <tr>\n",
              "      <th>Local_Authority_(District)</th>\n",
              "      <td>0</td>\n",
              "    </tr>\n",
              "    <tr>\n",
              "      <th>Local_Authority_(Highway)</th>\n",
              "      <td>0</td>\n",
              "    </tr>\n",
              "    <tr>\n",
              "      <th>1st_Road_Class</th>\n",
              "      <td>0</td>\n",
              "    </tr>\n",
              "    <tr>\n",
              "      <th>1st_Road_Number</th>\n",
              "      <td>0</td>\n",
              "    </tr>\n",
              "    <tr>\n",
              "      <th>Road_Type</th>\n",
              "      <td>0</td>\n",
              "    </tr>\n",
              "    <tr>\n",
              "      <th>Speed_limit</th>\n",
              "      <td>0</td>\n",
              "    </tr>\n",
              "    <tr>\n",
              "      <th>2nd_Road_Class</th>\n",
              "      <td>0</td>\n",
              "    </tr>\n",
              "    <tr>\n",
              "      <th>2nd_Road_Number</th>\n",
              "      <td>0</td>\n",
              "    </tr>\n",
              "    <tr>\n",
              "      <th>Pedestrian_Crossing-Human_Control</th>\n",
              "      <td>0</td>\n",
              "    </tr>\n",
              "    <tr>\n",
              "      <th>Pedestrian_Crossing-Physical_Facilities</th>\n",
              "      <td>0</td>\n",
              "    </tr>\n",
              "    <tr>\n",
              "      <th>Light_Conditions</th>\n",
              "      <td>544</td>\n",
              "    </tr>\n",
              "    <tr>\n",
              "      <th>Weather_Conditions</th>\n",
              "      <td>0</td>\n",
              "    </tr>\n",
              "    <tr>\n",
              "      <th>Road_Surface_Conditions</th>\n",
              "      <td>0</td>\n",
              "    </tr>\n",
              "    <tr>\n",
              "      <th>Urban_or_Rural_Area</th>\n",
              "      <td>88</td>\n",
              "    </tr>\n",
              "    <tr>\n",
              "      <th>Did_Police_Officer_Attend_Scene_of_Accident</th>\n",
              "      <td>0</td>\n",
              "    </tr>\n",
              "    <tr>\n",
              "      <th>Year</th>\n",
              "      <td>0</td>\n",
              "    </tr>\n",
              "  </tbody>\n",
              "</table>\n",
              "</div><br><label><b>dtype:</b> int64</label>"
            ]
          },
          "metadata": {},
          "execution_count": 190
        }
      ]
    },
    {
      "cell_type": "code",
      "source": [
        "df['Accident_Severity'].head().isnull()"
      ],
      "metadata": {
        "colab": {
          "base_uri": "https://localhost:8080/",
          "height": 241
        },
        "id": "6475cbU85mK0",
        "outputId": "eaad9658-6638-4577-dffa-1b53a6d188e1"
      },
      "id": "6475cbU85mK0",
      "execution_count": 191,
      "outputs": [
        {
          "output_type": "execute_result",
          "data": {
            "text/plain": [
              "0    False\n",
              "1    False\n",
              "2    False\n",
              "3    False\n",
              "4    False\n",
              "Name: Accident_Severity, dtype: bool"
            ],
            "text/html": [
              "<div>\n",
              "<style scoped>\n",
              "    .dataframe tbody tr th:only-of-type {\n",
              "        vertical-align: middle;\n",
              "    }\n",
              "\n",
              "    .dataframe tbody tr th {\n",
              "        vertical-align: top;\n",
              "    }\n",
              "\n",
              "    .dataframe thead th {\n",
              "        text-align: right;\n",
              "    }\n",
              "</style>\n",
              "<table border=\"1\" class=\"dataframe\">\n",
              "  <thead>\n",
              "    <tr style=\"text-align: right;\">\n",
              "      <th></th>\n",
              "      <th>Accident_Severity</th>\n",
              "    </tr>\n",
              "  </thead>\n",
              "  <tbody>\n",
              "    <tr>\n",
              "      <th>0</th>\n",
              "      <td>False</td>\n",
              "    </tr>\n",
              "    <tr>\n",
              "      <th>1</th>\n",
              "      <td>False</td>\n",
              "    </tr>\n",
              "    <tr>\n",
              "      <th>2</th>\n",
              "      <td>False</td>\n",
              "    </tr>\n",
              "    <tr>\n",
              "      <th>3</th>\n",
              "      <td>False</td>\n",
              "    </tr>\n",
              "    <tr>\n",
              "      <th>4</th>\n",
              "      <td>False</td>\n",
              "    </tr>\n",
              "  </tbody>\n",
              "</table>\n",
              "</div><br><label><b>dtype:</b> bool</label>"
            ]
          },
          "metadata": {},
          "execution_count": 191
        }
      ]
    },
    {
      "cell_type": "code",
      "source": [],
      "metadata": {
        "id": "nj7kLs9Y6FM1"
      },
      "id": "nj7kLs9Y6FM1",
      "execution_count": null,
      "outputs": []
    },
    {
      "cell_type": "code",
      "source": [
        "df['Number_of_Casualties'].head().isnull()"
      ],
      "metadata": {
        "colab": {
          "base_uri": "https://localhost:8080/",
          "height": 241
        },
        "id": "lj7s8w-i5unL",
        "outputId": "287ae264-0bc3-4770-9c48-20e9ff66696e"
      },
      "id": "lj7s8w-i5unL",
      "execution_count": 192,
      "outputs": [
        {
          "output_type": "execute_result",
          "data": {
            "text/plain": [
              "0    False\n",
              "1    False\n",
              "2    False\n",
              "3    False\n",
              "4    False\n",
              "Name: Number_of_Casualties, dtype: bool"
            ],
            "text/html": [
              "<div>\n",
              "<style scoped>\n",
              "    .dataframe tbody tr th:only-of-type {\n",
              "        vertical-align: middle;\n",
              "    }\n",
              "\n",
              "    .dataframe tbody tr th {\n",
              "        vertical-align: top;\n",
              "    }\n",
              "\n",
              "    .dataframe thead th {\n",
              "        text-align: right;\n",
              "    }\n",
              "</style>\n",
              "<table border=\"1\" class=\"dataframe\">\n",
              "  <thead>\n",
              "    <tr style=\"text-align: right;\">\n",
              "      <th></th>\n",
              "      <th>Number_of_Casualties</th>\n",
              "    </tr>\n",
              "  </thead>\n",
              "  <tbody>\n",
              "    <tr>\n",
              "      <th>0</th>\n",
              "      <td>False</td>\n",
              "    </tr>\n",
              "    <tr>\n",
              "      <th>1</th>\n",
              "      <td>False</td>\n",
              "    </tr>\n",
              "    <tr>\n",
              "      <th>2</th>\n",
              "      <td>False</td>\n",
              "    </tr>\n",
              "    <tr>\n",
              "      <th>3</th>\n",
              "      <td>False</td>\n",
              "    </tr>\n",
              "    <tr>\n",
              "      <th>4</th>\n",
              "      <td>False</td>\n",
              "    </tr>\n",
              "  </tbody>\n",
              "</table>\n",
              "</div><br><label><b>dtype:</b> bool</label>"
            ]
          },
          "metadata": {},
          "execution_count": 192
        }
      ]
    },
    {
      "cell_type": "code",
      "source": [
        "df['Light_Conditions'].head().isnull()"
      ],
      "metadata": {
        "colab": {
          "base_uri": "https://localhost:8080/",
          "height": 241
        },
        "id": "8hXbCox350P3",
        "outputId": "9adc4ec8-a959-4b53-fe9a-b91918c7687d"
      },
      "id": "8hXbCox350P3",
      "execution_count": 135,
      "outputs": [
        {
          "output_type": "execute_result",
          "data": {
            "text/plain": [
              "0    False\n",
              "1    False\n",
              "2    False\n",
              "3    False\n",
              "4    False\n",
              "Name: Light_Conditions, dtype: bool"
            ],
            "text/html": [
              "<div>\n",
              "<style scoped>\n",
              "    .dataframe tbody tr th:only-of-type {\n",
              "        vertical-align: middle;\n",
              "    }\n",
              "\n",
              "    .dataframe tbody tr th {\n",
              "        vertical-align: top;\n",
              "    }\n",
              "\n",
              "    .dataframe thead th {\n",
              "        text-align: right;\n",
              "    }\n",
              "</style>\n",
              "<table border=\"1\" class=\"dataframe\">\n",
              "  <thead>\n",
              "    <tr style=\"text-align: right;\">\n",
              "      <th></th>\n",
              "      <th>Light_Conditions</th>\n",
              "    </tr>\n",
              "  </thead>\n",
              "  <tbody>\n",
              "    <tr>\n",
              "      <th>0</th>\n",
              "      <td>False</td>\n",
              "    </tr>\n",
              "    <tr>\n",
              "      <th>1</th>\n",
              "      <td>False</td>\n",
              "    </tr>\n",
              "    <tr>\n",
              "      <th>2</th>\n",
              "      <td>False</td>\n",
              "    </tr>\n",
              "    <tr>\n",
              "      <th>3</th>\n",
              "      <td>False</td>\n",
              "    </tr>\n",
              "    <tr>\n",
              "      <th>4</th>\n",
              "      <td>False</td>\n",
              "    </tr>\n",
              "  </tbody>\n",
              "</table>\n",
              "</div><br><label><b>dtype:</b> bool</label>"
            ]
          },
          "metadata": {},
          "execution_count": 135
        }
      ]
    },
    {
      "cell_type": "code",
      "source": [
        "total_of_null_values = df.isnull().sum().sum()\n",
        "print(\"Total of null values:\",total_of_null_values)\n",
        "tatal_of_rows = df.shape[0]\n",
        "print(\"Total of all values:\",tatal_of_rows)\n",
        "percentage_of_null_values = (total_of_null_values / tatal_of_rows) * 100\n",
        "print(\"Percentage of null values:\",percentage_of_null_values,\"%\")"
      ],
      "metadata": {
        "colab": {
          "base_uri": "https://localhost:8080/"
        },
        "id": "qwYyCM1H6VC4",
        "outputId": "873281b4-fe03-4fc3-9288-a7d9332a989c"
      },
      "id": "qwYyCM1H6VC4",
      "execution_count": 193,
      "outputs": [
        {
          "output_type": "stream",
          "name": "stdout",
          "text": [
            "Total of null values: 1995\n",
            "Total of all values: 52000\n",
            "Percentage of null values: 3.8365384615384612 %\n"
          ]
        }
      ]
    },
    {
      "cell_type": "markdown",
      "source": [
        "# so like we see above because the null values is just 4.12% from all our data and less then 20% we will drop it"
      ],
      "metadata": {
        "id": "9VSRwka77B7E"
      },
      "id": "9VSRwka77B7E"
    },
    {
      "cell_type": "code",
      "source": [
        "df.dropna(inplace=True)"
      ],
      "metadata": {
        "id": "2hh6IfNo6qO8"
      },
      "id": "2hh6IfNo6qO8",
      "execution_count": 194,
      "outputs": []
    },
    {
      "cell_type": "code",
      "source": [
        "df.shape"
      ],
      "metadata": {
        "colab": {
          "base_uri": "https://localhost:8080/"
        },
        "id": "0YgUQPCZ6GgJ",
        "outputId": "3e0d55c0-71e0-4c62-88b6-3dfe58749ffc"
      },
      "id": "0YgUQPCZ6GgJ",
      "execution_count": 195,
      "outputs": [
        {
          "output_type": "execute_result",
          "data": {
            "text/plain": [
              "(50029, 26)"
            ]
          },
          "metadata": {},
          "execution_count": 195
        }
      ]
    },
    {
      "cell_type": "code",
      "source": [
        "df.duplicated().sum()"
      ],
      "metadata": {
        "colab": {
          "base_uri": "https://localhost:8080/"
        },
        "id": "GpAXAc7x7lrs",
        "outputId": "8e6f8810-305b-4fb6-f538-9f9a6d1076e2"
      },
      "id": "GpAXAc7x7lrs",
      "execution_count": 196,
      "outputs": [
        {
          "output_type": "execute_result",
          "data": {
            "text/plain": [
              "43"
            ]
          },
          "metadata": {},
          "execution_count": 196
        }
      ]
    },
    {
      "cell_type": "markdown",
      "source": [
        "# we have for duplicated we will drop it"
      ],
      "metadata": {
        "id": "7WLbtHzv7oqR"
      },
      "id": "7WLbtHzv7oqR"
    },
    {
      "cell_type": "code",
      "source": [
        "df.drop_duplicates(inplace=True)"
      ],
      "metadata": {
        "id": "m7R0oiB77wkQ"
      },
      "id": "m7R0oiB77wkQ",
      "execution_count": 197,
      "outputs": []
    },
    {
      "cell_type": "code",
      "source": [
        "df.duplicated().sum()"
      ],
      "metadata": {
        "colab": {
          "base_uri": "https://localhost:8080/"
        },
        "id": "EF6LZ7LR7y3I",
        "outputId": "2c8459ce-b33a-4e32-d5a0-3bfa97a33b76"
      },
      "id": "EF6LZ7LR7y3I",
      "execution_count": 198,
      "outputs": [
        {
          "output_type": "execute_result",
          "data": {
            "text/plain": [
              "0"
            ]
          },
          "metadata": {},
          "execution_count": 198
        }
      ]
    },
    {
      "cell_type": "markdown",
      "source": [],
      "metadata": {
        "id": "6cqTzYc74fMA"
      },
      "id": "6cqTzYc74fMA"
    },
    {
      "cell_type": "markdown",
      "id": "b0d002cd",
      "metadata": {
        "id": "b0d002cd"
      },
      "source": [
        "## Data Preprocessing\n",
        "Do what you think you need such as:\n",
        "* Remove the outliers\n",
        "* Impute missing data\n",
        "* Scale the data\n",
        "* Reduce dimentions using PCA\n",
        "* Implement One-Hot Encoding for nominal categorical variables."
      ]
    },
    {
      "cell_type": "code",
      "source": [],
      "metadata": {
        "id": "3za9GZbzBRyd"
      },
      "id": "3za9GZbzBRyd",
      "execution_count": 61,
      "outputs": []
    },
    {
      "cell_type": "markdown",
      "id": "d3f6a968",
      "metadata": {
        "id": "d3f6a968"
      },
      "source": [
        "## Feature Selection\n",
        "Select relevant features for clustering. Explain your choice of features.\n"
      ]
    },
    {
      "cell_type": "code",
      "execution_count": 199,
      "id": "7a2b7c47",
      "metadata": {
        "id": "7a2b7c47"
      },
      "outputs": [],
      "source": [
        "df_ = df.drop(columns=['Location_Easting_OSGR','Location_Northing_OSGR','Police_Force','Speed_limit','Pedestrian_Crossing-Physical_Facilities','Pedestrian_Crossing-Human_Control','Date','Local_Authority_(Highway)'])"
      ]
    },
    {
      "cell_type": "code",
      "source": [
        "df_ = df_.drop(columns=['Road_Type','Light_Conditions','Weather_Conditions','Road_Surface_Conditions','Did_Police_Officer_Attend_Scene_of_Accident'])"
      ],
      "metadata": {
        "id": "-vlAFaKsDi7f"
      },
      "id": "-vlAFaKsDi7f",
      "execution_count": 202,
      "outputs": []
    },
    {
      "cell_type": "code",
      "source": [
        "df_.info()"
      ],
      "metadata": {
        "id": "VI6Gr7d0OvNX",
        "outputId": "c875febc-940c-4fa8-9486-7d890dc055a4",
        "colab": {
          "base_uri": "https://localhost:8080/"
        }
      },
      "id": "VI6Gr7d0OvNX",
      "execution_count": 203,
      "outputs": [
        {
          "output_type": "stream",
          "name": "stdout",
          "text": [
            "<class 'pandas.core.frame.DataFrame'>\n",
            "Index: 49986 entries, 0 to 51999\n",
            "Data columns (total 13 columns):\n",
            " #   Column                      Non-Null Count  Dtype  \n",
            "---  ------                      --------------  -----  \n",
            " 0   Longitude                   49986 non-null  float64\n",
            " 1   Latitude                    49986 non-null  float64\n",
            " 2   Accident_Severity           49986 non-null  float64\n",
            " 3   Number_of_Vehicles          49986 non-null  int64  \n",
            " 4   Number_of_Casualties        49986 non-null  float64\n",
            " 5   Day_of_Week                 49986 non-null  int64  \n",
            " 6   Local_Authority_(District)  49986 non-null  int64  \n",
            " 7   1st_Road_Class              49986 non-null  int64  \n",
            " 8   1st_Road_Number             49986 non-null  int64  \n",
            " 9   2nd_Road_Class              49986 non-null  int64  \n",
            " 10  2nd_Road_Number             49986 non-null  int64  \n",
            " 11  Urban_or_Rural_Area         49986 non-null  float64\n",
            " 12  Year                        49986 non-null  int64  \n",
            "dtypes: float64(5), int64(8)\n",
            "memory usage: 5.3 MB\n"
          ]
        }
      ]
    },
    {
      "cell_type": "markdown",
      "source": [],
      "metadata": {
        "id": "wke5AEjjG6Hi"
      },
      "id": "wke5AEjjG6Hi"
    },
    {
      "cell_type": "markdown",
      "id": "d0379d4e",
      "metadata": {
        "id": "d0379d4e"
      },
      "source": [
        "## Data Visualization\n",
        "Visualize the data using appropriate plots to gain insights into the dataset. Using the following:\n",
        "- Scatter plot of accidents based on Longitude and Latitude."
      ]
    },
    {
      "cell_type": "code",
      "execution_count": 204,
      "id": "660247d7",
      "metadata": {
        "colab": {
          "base_uri": "https://localhost:8080/",
          "height": 536
        },
        "id": "660247d7",
        "outputId": "26165eac-3c26-42da-fa83-d8c298e72dcd"
      },
      "outputs": [
        {
          "output_type": "display_data",
          "data": {
            "text/plain": [
              "<Figure size 1000x600 with 1 Axes>"
            ],
            "image/png": "[encoded data removed]"
          },
          "metadata": {}
        }
      ],
      "source": [
        "plt.figure(figsize=(10, 6))\n",
        "plt.scatter(df_['Longitude'], df_['Latitude'], alpha=0.5)\n",
        "plt.xlabel('Longitude')\n",
        "plt.ylabel('Latitude')\n",
        "plt.title('Scatter Plot of Accidents based on Longitude and Latitude')\n",
        "plt.grid(True)\n",
        "plt.show()"
      ]
    },
    {
      "cell_type": "markdown",
      "id": "4d2f9b1d",
      "metadata": {
        "id": "4d2f9b1d"
      },
      "source": [
        "## Clustering\n",
        "Apply K-Means clustering. Determine the optimal number of clusters and justify your choice.\n",
        "* Find the `n_clusters` parameter using the elbow method.\n",
        "* Train the model."
      ]
    },
    {
      "cell_type": "code",
      "source": [
        "X= df_\n",
        "y = df_['Accident_Severity']"
      ],
      "metadata": {
        "id": "xLZX4rj_Weg_"
      },
      "id": "xLZX4rj_Weg_",
      "execution_count": 229,
      "outputs": []
    },
    {
      "cell_type": "code",
      "source": [
        "X_train,X_test,y_train,y_test = train_test_split(df_,df_['Accident_Severity'],test_size=0.2,random_state=42)"
      ],
      "metadata": {
        "id": "95uLqeY7QXBN"
      },
      "id": "95uLqeY7QXBN",
      "execution_count": 240,
      "outputs": []
    },
    {
      "cell_type": "code",
      "source": [
        "interia = []\n",
        "k_range = range(1, 11)\n",
        "for k in k_range:\n",
        "    kmeans = KMeans(n_clusters=k,init='k-means++',max_iter=300,n_init=10, random_state=0)\n",
        "    kmeans.fit(X_train)\n",
        "    interia.append(kmeans.inertia_)"
      ],
      "metadata": {
        "id": "TY0QqOFCTVp1"
      },
      "id": "TY0QqOFCTVp1",
      "execution_count": 241,
      "outputs": []
    },
    {
      "cell_type": "code",
      "source": [
        "plt.plot(k_range, interia, marker='o')\n",
        "plt.xlabel('Number of clusters')\n",
        "plt.ylabel('Interia')\n",
        "plt.title('Elbow Method')\n",
        "plt.show()"
      ],
      "metadata": {
        "id": "YC1akQPFTz7T",
        "outputId": "a4492cee-7fd4-46ee-c29d-c2fa626f4656",
        "colab": {
          "base_uri": "https://localhost:8080/",
          "height": 472
        }
      },
      "id": "YC1akQPFTz7T",
      "execution_count": 242,
      "outputs": [
        {
          "output_type": "display_data",
          "data": {
            "text/plain": [
              "<Figure size 640x480 with 1 Axes>"
            ],
            "image/png": "[encoded data removed]"
          },
          "metadata": {}
        }
      ]
    },
    {
      "cell_type": "markdown",
      "id": "70fb3a2a",
      "metadata": {
        "id": "70fb3a2a"
      },
      "source": [
        "## Evaluation\n",
        "Evaluate the clustering result using appropriate metrics.\n"
      ]
    },
    {
      "cell_type": "code",
      "execution_count": 243,
      "id": "70c261ca",
      "metadata": {
        "colab": {
          "base_uri": "https://localhost:8080/",
          "height": 75
        },
        "id": "70c261ca",
        "outputId": "bd10656d-d203-4f7f-e642-a35f2fe907cf"
      },
      "outputs": [
        {
          "output_type": "execute_result",
          "data": {
            "text/plain": [
              "KMeans(n_clusters=4, n_init=10, random_state=0)"
            ],
            "text/html": [
              "<style>#sk-container-id-3 {color: black;}#sk-container-id-3 pre{padding: 0;}#sk-container-id-3 div.sk-toggleable {background-color: white;}#sk-container-id-3 label.sk-toggleable__label {cursor: pointer;display: block;width: 100%;margin-bottom: 0;padding: 0.3em;box-sizing: border-box;text-align: center;}#sk-container-id-3 label.sk-toggleable__label-arrow:before {content: \"▸\";float: left;margin-right: 0.25em;color: #696969;}#sk-container-id-3 label.sk-toggleable__label-arrow:hover:before {color: black;}#sk-container-id-3 div.sk-estimator:hover label.sk-toggleable__label-arrow:before {color: black;}#sk-container-id-3 div.sk-toggleable__content {max-height: 0;max-width: 0;overflow: hidden;text-align: left;background-color: #f0f8ff;}#sk-container-id-3 div.sk-toggleable__content pre {margin: 0.2em;color: black;border-radius: 0.25em;background-color: #f0f8ff;}#sk-container-id-3 input.sk-toggleable__control:checked~div.sk-toggleable__content {max-height: 200px;max-width: 100%;overflow: auto;}#sk-container-id-3 input.sk-toggleable__control:checked~label.sk-toggleable__label-arrow:before {content: \"▾\";}#sk-container-id-3 div.sk-estimator input.sk-toggleable__control:checked~label.sk-toggleable__label {background-color: #d4ebff;}#sk-container-id-3 div.sk-label input.sk-toggleable__control:checked~label.sk-toggleable__label {background-color: #d4ebff;}#sk-container-id-3 input.sk-hidden--visually {border: 0;clip: rect(1px 1px 1px 1px);clip: rect(1px, 1px, 1px, 1px);height: 1px;margin: -1px;overflow: hidden;padding: 0;position: absolute;width: 1px;}#sk-container-id-3 div.sk-estimator {font-family: monospace;background-color: #f0f8ff;border: 1px dotted black;border-radius: 0.25em;box-sizing: border-box;margin-bottom: 0.5em;}#sk-container-id-3 div.sk-estimator:hover {background-color: #d4ebff;}#sk-container-id-3 div.sk-parallel-item::after {content: \"\";width: 100%;border-bottom: 1px solid gray;flex-grow: 1;}#sk-container-id-3 div.sk-label:hover label.sk-toggleable__label {background-color: #d4ebff;}#sk-container-id-3 div.sk-serial::before {content: \"\";position: absolute;border-left: 1px solid gray;box-sizing: border-box;top: 0;bottom: 0;left: 50%;z-index: 0;}#sk-container-id-3 div.sk-serial {display: flex;flex-direction: column;align-items: center;background-color: white;padding-right: 0.2em;padding-left: 0.2em;position: relative;}#sk-container-id-3 div.sk-item {position: relative;z-index: 1;}#sk-container-id-3 div.sk-parallel {display: flex;align-items: stretch;justify-content: center;background-color: white;position: relative;}#sk-container-id-3 div.sk-item::before, #sk-container-id-3 div.sk-parallel-item::before {content: \"\";position: absolute;border-left: 1px solid gray;box-sizing: border-box;top: 0;bottom: 0;left: 50%;z-index: -1;}#sk-container-id-3 div.sk-parallel-item {display: flex;flex-direction: column;z-index: 1;position: relative;background-color: white;}#sk-container-id-3 div.sk-parallel-item:first-child::after {align-self: flex-end;width: 50%;}#sk-container-id-3 div.sk-parallel-item:last-child::after {align-self: flex-start;width: 50%;}#sk-container-id-3 div.sk-parallel-item:only-child::after {width: 0;}#sk-container-id-3 div.sk-dashed-wrapped {border: 1px dashed gray;margin: 0 0.4em 0.5em 0.4em;box-sizing: border-box;padding-bottom: 0.4em;background-color: white;}#sk-container-id-3 div.sk-label label {font-family: monospace;font-weight: bold;display: inline-block;line-height: 1.2em;}#sk-container-id-3 div.sk-label-container {text-align: center;}#sk-container-id-3 div.sk-container {/* jupyter's `normalize.less` sets `[hidden] { display: none; }` but bootstrap.min.css set `[hidden] { display: none !important; }` so we also need the `!important` here to be able to override the default hidden behavior on the sphinx rendered scikit-learn.org. See: https://github.com/scikit-learn/scikit-learn/issues/21755 */display: inline-block !important;position: relative;}#sk-container-id-3 div.sk-text-repr-fallback {display: none;}</style><div id=\"sk-container-id-3\" class=\"sk-top-container\"><div class=\"sk-text-repr-fallback\"><pre>KMeans(n_clusters=4, n_init=10, random_state=0)</pre><b>In a Jupyter environment, please rerun this cell to show the HTML representation or trust the notebook. <br />On GitHub, the HTML representation is unable to render, please try loading this page with nbviewer.org.</b></div><div class=\"sk-container\" hidden><div class=\"sk-item\"><div class=\"sk-estimator sk-toggleable\"><input class=\"sk-toggleable__control sk-hidden--visually\" id=\"sk-estimator-id-3\" type=\"checkbox\" checked><label for=\"sk-estimator-id-3\" class=\"sk-toggleable__label sk-toggleable__label-arrow\">KMeans</label><div class=\"sk-toggleable__content\"><pre>KMeans(n_clusters=4, n_init=10, random_state=0)</pre></div></div></div></div></div>"
            ]
          },
          "metadata": {},
          "execution_count": 243
        }
      ],
      "source": [
        "K_means = KMeans(n_clusters=4,init='k-means++',max_iter=300,n_init=10, random_state=0)\n",
        "K_means.fit(X_train,y_train)\n"
      ]
    },
    {
      "cell_type": "code",
      "source": [
        "y_pred = K_means.predict(X_test)"
      ],
      "metadata": {
        "id": "B4vVE9BrUbYF"
      },
      "id": "B4vVE9BrUbYF",
      "execution_count": 255,
      "outputs": []
    },
    {
      "cell_type": "markdown",
      "source": [],
      "metadata": {
        "id": "sJ27a8ZSYYTm"
      },
      "id": "sJ27a8ZSYYTm"
    },
    {
      "cell_type": "code",
      "source": [
        "acc = accuracy_score(y_test,y_pred)\n",
        "print(acc)"
      ],
      "metadata": {
        "id": "fE-6IYKuUxno",
        "outputId": "9f7134e3-3f1b-4439-ca4c-e1d1c88da373",
        "colab": {
          "base_uri": "https://localhost:8080/"
        }
      },
      "id": "fE-6IYKuUxno",
      "execution_count": 256,
      "outputs": [
        {
          "output_type": "stream",
          "name": "stdout",
          "text": [
            "0.03460692138427685\n"
          ]
        }
      ]
    },
    {
      "cell_type": "code",
      "source": [
        "cluster_centers = K_means.cluster_centers_\n",
        "print(cluster_centers)"
      ],
      "metadata": {
        "id": "ZkrGaYPDVHhs",
        "outputId": "ab32d3a7-d8c5-4cce-9ec3-1c29cdcd53f2",
        "colab": {
          "base_uri": "https://localhost:8080/"
        }
      },
      "id": "ZkrGaYPDVHhs",
      "execution_count": 257,
      "outputs": [
        {
          "output_type": "stream",
          "name": "stdout",
          "text": [
            "[[-1.34679130e+00  5.25996227e+01  2.83763838e+00  1.83289404e+00\n",
            "   1.35712735e+00  4.11966263e+00  3.49762349e+02  4.13398865e+00\n",
            "   2.68820242e+02  2.55775373e+00  8.05368228e+01  1.36822847e+00\n",
            "   2.00938283e+03]\n",
            " [-1.86378868e+00  5.24867149e+01  2.82212257e+00  1.82455157e+00\n",
            "   1.35463378e+00  4.15022422e+00  3.64151158e+02  3.81109865e+00\n",
            "   4.80831689e+03  2.74607623e+00  6.07062780e+01  1.34659940e+00\n",
            "   2.00944301e+03]\n",
            " [-1.45572160e+00  5.24078400e+01  2.86466942e+00  1.90082645e+00\n",
            "   1.35227273e+00  4.15909091e+00  3.39109504e+02  4.20144628e+00\n",
            "   5.06149587e+03  4.52376033e+00  5.26758264e+03  1.22004132e+00\n",
            "   2.00967355e+03]\n",
            " [-1.62064104e+00  5.26636093e+01  2.87244538e+00  1.89781536e+00\n",
            "   1.36504581e+00  4.18322763e+00  3.26476392e+02  3.69556025e+00\n",
            "   2.91158562e+02  4.21987315e+00  5.19933615e+03  1.30655391e+00\n",
            "   2.00935447e+03]]\n"
          ]
        }
      ]
    },
    {
      "cell_type": "markdown",
      "id": "061e005c",
      "metadata": {
        "id": "061e005c"
      },
      "source": [
        "## Plot the data points with their predicted cluster center"
      ]
    },
    {
      "cell_type": "code",
      "execution_count": null,
      "id": "10cc0ed5",
      "metadata": {
        "id": "10cc0ed5"
      },
      "outputs": [],
      "source": []
    },
    {
      "cell_type": "markdown",
      "id": "5cdf3716",
      "metadata": {
        "id": "5cdf3716"
      },
      "source": [
        "## Exam Questions\n",
        "* **Justify Your Feature Selection:**\n",
        "   - Which features did you choose for clustering and why?\n",
        "   i drop a lot of unnecessary columns deponding in weather or road conditions because i want know the area that has an accident so this columns not necessarily\n",
        "* **Number of Clusters Choices:**\n",
        "   - How did you determine the optimal number?\n",
        "   i choose 4 depand in elbow method\n",
        "* **Evaluation:**\n",
        "   - Which metrics did you use to evaluate the clustering results, and why?\n",
        "   - How do these metrics help in understanding the effectiveness of your clustering approach?\n",
        "   \n",
        "* **Improvements and Recommendations:**\n",
        "   - Suggest any improvements or future work that could be done with this dataset. What other methods or algorithms would you consider applying?"
      ]
    }
  ],
  "metadata": {
    "language_info": {
      "name": "python"
    },
    "colab": {
      "provenance": []
    },
    "kernelspec": {
      "name": "python3",
      "display_name": "Python 3"
    }
  },
  "nbformat": 4,
  "nbformat_minor": 5
}